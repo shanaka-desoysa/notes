{
  "nbformat": 4,
  "nbformat_minor": 0,
  "metadata": {
    "colab": {
      "name": "XOR_Tensorflow.ipynb",
      "version": "0.3.2",
      "provenance": [],
      "collapsed_sections": []
    },
    "kernelspec": {
      "name": "python3",
      "display_name": "Python 3"
    }
  },
  "cells": [
    {
      "cell_type": "markdown",
      "metadata": {
        "id": "c-xSLOBh7Q4q",
        "colab_type": "text"
      },
      "source": [
        "# XOR Tutorial with Tensorflow\n",
        "\n",
        "One of the initial problems with neural networks was exclusive-or, XOR, as studied by Minsky with respect to perceptrons. The XOR-Problem is a classification problem, where you only have four data points with two features. The training set and the test set are exactly the same in this problem. So the interesting question is only if the model is able to find a decision boundary which classifies all four points correctly.\n",
        "\n",
        "![XOR Decision Boundry](../img/xor-problem.png)\n"
      ]
    },
    {
      "cell_type": "markdown",
      "metadata": {
        "id": "BNOv8hv87Q4s",
        "colab_type": "text"
      },
      "source": [
        "The perceptron is a type of feed-forward network, which means the process of generating an output — known as forward propagation — flows  in one direction from the input layer to the output layer.  There are no connections between units in the input layer.  Instead, all units in the input layer are connected directly to the output unit. In this process the input values are multiplied by their respective weights.\n",
        "\n",
        "A limitation of this architecture is that it is only capable of separating data points with a single line. This is unfortunate because the XOr inputs are not linearly separable. This is particularly visible if you plot the XOR input values to a graph. As shown in figure 3, there is no way to separate the 1 and 0 predictions with a single classification line.\n",
        "\n",
        "![XOR Decision Boundry](../img/linsep1.gif)\n"
      ]
    },
    {
      "cell_type": "markdown",
      "metadata": {
        "id": "JhnFfTRM7Q4u",
        "colab_type": "text"
      },
      "source": [
        "## Multilayer Perceptrons\n",
        "\n",
        "The solution to this problem is to expand beyond the single-layer architecture by adding an additional layer of units without any direct access to the outside world, known as a hidden layer.  This kind of architecture is another feed-forward network known as a multilayer perceptron (MLP).\n",
        "\n",
        "This architecture, while more complex than that of the classic perceptron network, is capable of achieving non-linear separation.  Thus, with the right set of weight values, it can provide the necessary separation to accurately classify the XOr inputs.\n",
        "\n",
        "![XOR Decision Boundry](../img/linsep2.png)\n"
      ]
    },
    {
      "cell_type": "code",
      "metadata": {
        "id": "y_ch7qU37Q4w",
        "colab_type": "code",
        "outputId": "bf62a7d3-8fc9-4151-8742-a63e8350566f",
        "colab": {
          "base_uri": "https://localhost:8080/",
          "height": 34
        }
      },
      "source": [
        "#!/usr/bin/env python\n",
        "\n",
        "\"\"\"Mini-demo how the one hot encoder works.\"\"\"\n",
        "\n",
        "from sklearn.preprocessing import OneHotEncoder\n",
        "import numpy as np\n",
        "\n",
        "# The most intuitive way to label a dataset \"X\"\n",
        "# (list of features, where X[i] are the features for a datapoint i)\n",
        "# is to have a flat list \"labels\" where labels[i] is the label for datapoint i.\n",
        "labels = [0, 1, 1, 1, 0, 0, 1, 2]\n",
        "\n",
        "# The OneHotEncoder transforms those labels to something our models can\n",
        "# work with\n",
        "enc = OneHotEncoder(categories='auto')\n",
        "\n",
        "\n",
        "def trans_for_ohe(labels):\n",
        "    \"\"\"Transform a flat list of labels to what one hot encoder needs.\"\"\"\n",
        "    return np.array(labels).reshape(len(labels), -1)\n",
        "\n",
        "labels_r = trans_for_ohe(labels)\n",
        "# The encoder has to know how many classes there are and what their names are.\n",
        "enc.fit(labels_r)\n",
        "\n",
        "# Now you can transform\n",
        "print(enc.transform(trans_for_ohe([1, 0, 2])).toarray().tolist())\n",
        "\n"
      ],
      "execution_count": 1,
      "outputs": [
        {
          "output_type": "stream",
          "text": [
            "[[0.0, 1.0, 0.0], [1.0, 0.0, 0.0], [0.0, 0.0, 1.0]]\n"
          ],
          "name": "stdout"
        }
      ]
    },
    {
      "cell_type": "code",
      "metadata": {
        "id": "Xdci136U7Q45",
        "colab_type": "code",
        "outputId": "425b657b-cbf8-41eb-de3e-3be9a2b9a04a",
        "colab": {
          "base_uri": "https://localhost:8080/",
          "height": 1558
        }
      },
      "source": [
        "import tensorflow as tf\n",
        "import matplotlib.pyplot as plt\n",
        "import numpy as np\n",
        "from sklearn.preprocessing import OneHotEncoder\n",
        "\n",
        "\n",
        "def trans_for_ohe(labels):\n",
        "    \"\"\"Transform a flat list of labels to what one hot encoder needs.\"\"\"\n",
        "    return np.array(labels).reshape(len(labels), -1)\n",
        "\n",
        "\n",
        "def analyze_classifier(sess, i, w1, b1, w2, b2, XOR_X, XOR_T):\n",
        "    \"\"\"Visualize the classification.\"\"\"\n",
        "    print('\\nEpoch %i' % i)\n",
        "    print('Hypothesis %s' % sess.run(hypothesis,\n",
        "                                     feed_dict={input_: XOR_X,\n",
        "                                                target: XOR_T}))\n",
        "    print('w1=%s' % sess.run(w1))\n",
        "    print('b1=%s' % sess.run(b1))\n",
        "    print('w2=%s' % sess.run(w2))\n",
        "    print('b2=%s' % sess.run(b2))\n",
        "    print('cost (ce)=%s' % sess.run(cross_entropy,\n",
        "                                    feed_dict={input_: XOR_X,\n",
        "                                               target: XOR_T}))\n",
        "    # Visualize classification boundary\n",
        "    xs = np.linspace(-5, 5)\n",
        "    ys = np.linspace(-5, 5)\n",
        "    pred_classes = []\n",
        "    for x in xs:\n",
        "        for y in ys:\n",
        "            pred_class = sess.run(hypothesis,\n",
        "                                  feed_dict={input_: [[x, y]]})\n",
        "            pred_classes.append((x, y, pred_class.argmax()))\n",
        "    xs_p, ys_p = [], []\n",
        "    xs_n, ys_n = [], []\n",
        "    for x, y, c in pred_classes:\n",
        "        if c == 0:\n",
        "            xs_n.append(x)\n",
        "            ys_n.append(y)\n",
        "        else:\n",
        "            xs_p.append(x)\n",
        "            ys_p.append(y)\n",
        "    plt.plot(xs_p, ys_p, 'ro',markersize=2)\n",
        "    plt.plot(xs_n, ys_n, 'bo',markersize=2)\n",
        "    plt.show()\n",
        "\n",
        "\n",
        "# The training data\n",
        "XOR_X = [[0, 0], [0, 1], [1, 0], [1, 1]]  # Features\n",
        "XOR_Y = [0, 1, 1, 0]  # Class labels\n",
        "assert len(XOR_X) == len(XOR_Y)  # sanity check\n",
        "\n",
        "# Transform labels to targets\n",
        "enc = OneHotEncoder(categories='auto')\n",
        "enc.fit(trans_for_ohe(XOR_Y))\n",
        "XOR_T = enc.transform(trans_for_ohe(XOR_Y)).toarray()\n",
        "\n",
        "# The network\n",
        "nb_classes = 2\n",
        "input_ = tf.placeholder(tf.float32,\n",
        "                        shape=[None, len(XOR_X[0])],\n",
        "                        name=\"input\")\n",
        "target = tf.placeholder(tf.float32,\n",
        "                        shape=[None, nb_classes],\n",
        "                        name=\"output\")\n",
        "nb_hidden_nodes = 2\n",
        "# enc = tf.one_hot([0, 1], 2)\n",
        "w1 = tf.Variable(tf.random_uniform([2, nb_hidden_nodes], -1, 1, seed=0),\n",
        "                 name=\"Weights1\")\n",
        "w2 = tf.Variable(tf.random_uniform([nb_hidden_nodes, nb_classes], -1, 1,\n",
        "                                   seed=0),\n",
        "                 name=\"Weights2\")\n",
        "b1 = tf.Variable(tf.zeros([nb_hidden_nodes]), name=\"Biases1\")\n",
        "b2 = tf.Variable(tf.zeros([nb_classes]), name=\"Biases2\")\n",
        "activation2 = tf.sigmoid(tf.add(tf.matmul(input_, w1), b1))\n",
        "hypothesis = tf.nn.softmax(tf.add(tf.matmul(activation2, w2), b2))\n",
        "cross_entropy = -tf.reduce_sum(target * tf.log(hypothesis))\n",
        "train_step = tf.train.GradientDescentOptimizer(0.1).minimize(cross_entropy)\n",
        "\n",
        "# Start training\n",
        "init = tf.initialize_all_variables()\n",
        "#tf.global_variables_initializer \n",
        "with tf.Session() as sess:\n",
        "    sess.run(init)\n",
        "\n",
        "    for i in range(20001):\n",
        "        sess.run(train_step, feed_dict={input_: XOR_X, target: XOR_T})\n",
        "\n",
        "        if i % 10000 == 0:\n",
        "            analyze_classifier(sess, i, w1, b1, w2, b2, XOR_X, XOR_T)"
      ],
      "execution_count": 2,
      "outputs": [
        {
          "output_type": "stream",
          "text": [
            "WARNING:tensorflow:From /usr/local/lib/python3.6/dist-packages/tensorflow/python/framework/op_def_library.py:263: colocate_with (from tensorflow.python.framework.ops) is deprecated and will be removed in a future version.\n",
            "Instructions for updating:\n",
            "Colocations handled automatically by placer.\n",
            "WARNING:tensorflow:From /usr/local/lib/python3.6/dist-packages/tensorflow/python/util/tf_should_use.py:193: initialize_all_variables (from tensorflow.python.ops.variables) is deprecated and will be removed after 2017-03-02.\n",
            "Instructions for updating:\n",
            "Use `tf.global_variables_initializer` instead.\n",
            "\n",
            "Epoch 0\n",
            "Hypothesis [[0.48712054 0.51287943]\n",
            " [0.3380821  0.6619179 ]\n",
            " [0.65063184 0.34936816]\n",
            " [0.5031724  0.49682766]]\n",
            "w1=[[-0.79593647  0.9394788 ]\n",
            " [ 0.6885476  -0.8942361 ]]\n",
            "b1=[-0.00733338  0.00893857]\n",
            "w2=[[-0.7908405   0.93289936]\n",
            " [ 0.6927817  -0.8986907 ]]\n",
            "b2=[ 0.003944   -0.00394399]\n",
            "cost (ce)=2.8703089\n"
          ],
          "name": "stdout"
        },
        {
          "output_type": "display_data",
          "data": {
            "image/png": "[encoded data removed]",
            "text/plain": [
              "<Figure size 432x288 with 1 Axes>"
            ]
          },
          "metadata": {
            "tags": []
          }
        },
        {
          "output_type": "stream",
          "text": [
            "\n",
            "Epoch 10000\n",
            "Hypothesis [[0.99773693 0.00226305]\n",
            " [0.00290442 0.9970956 ]\n",
            " [0.00295531 0.99704474]\n",
            " [0.9980432  0.00195681]]\n",
            "w1=[[-6.6269493  7.523028 ]\n",
            " [ 6.9120836 -7.39292  ]]\n",
            "b1=[3.3224514 3.7620401]\n",
            "w2=[[ 6.634649  -6.492591 ]\n",
            " [ 6.4047174 -6.610618 ]]\n",
            "b2=[-9.650645  9.650649]\n",
            "cost (ce)=0.010092646\n"
          ],
          "name": "stdout"
        },
        {
          "output_type": "display_data",
          "data": {
            "image/png": "[encoded data removed]",
            "text/plain": [
              "<Figure size 432x288 with 1 Axes>"
            ]
          },
          "metadata": {
            "tags": []
          }
        },
        {
          "output_type": "stream",
          "text": [
            "\n",
            "Epoch 20000\n",
            "Hypothesis [[9.9895477e-01 1.0452041e-03]\n",
            " [1.3545546e-03 9.9864548e-01]\n",
            " [1.3704252e-03 9.9862957e-01]\n",
            " [9.9909222e-01 9.0778538e-04]]\n",
            "w1=[[-7.0485744  7.846732 ]\n",
            " [ 7.330614  -7.6883764]]\n",
            "b1=[3.5324638 3.8958738]\n",
            "w2=[[ 7.359483  -7.2174263]\n",
            " [ 7.140596  -7.3464923]]\n",
            "b2=[-10.749447  10.749438]\n",
            "cost (ce)=0.004680768\n"
          ],
          "name": "stdout"
        },
        {
          "output_type": "display_data",
          "data": {
            "image/png": "[encoded data removed]",
            "text/plain": [
              "<Figure size 432x288 with 1 Axes>"
            ]
          },
          "metadata": {
            "tags": []
          }
        }
      ]
    },
    {
      "cell_type": "markdown",
      "metadata": {
        "id": "_Q69me_EEc7L",
        "colab_type": "text"
      },
      "source": [
        "## References\n",
        "\n",
        "https://medium.com/@jayeshbahire/the-xor-problem-in-neural-networks-50006411840b\n",
        "\n",
        "https://towardsdatascience.com/a-concise-history-of-neural-networks-2070655d3fec\n"
      ]
    }
  ]
}