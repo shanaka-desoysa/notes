{
  "nbformat": 4,
  "nbformat_minor": 0,
  "metadata": {
    "kernelspec": {
      "display_name": "Python 3",
      "language": "python",
      "name": "python3"
    },
    "language_info": {
      "codemirror_mode": {
        "name": "ipython",
        "version": 3
      },
      "file_extension": ".py",
      "mimetype": "text/x-python",
      "name": "python",
      "nbconvert_exporter": "python",
      "pygments_lexer": "ipython3",
      "version": "3.8.6"
    },
    "colab": {
      "name": "Using_TensorFlow_DataSets.ipynb",
      "provenance": [],
      "include_colab_link": true
    }
  },
  "cells": [
    {
      "source": [
        "<a href=\"https://colab.research.google.com/github/shanaka-desoysa/notes/blob/main/docs/TensorFlow/Using_TensorFlow_DataSets.ipynb\" target=\"_blank\"><img src=\"https://colab.research.google.com/assets/colab-badge.svg\" alt=\"Open In Colab\"/></a>"
      ],
      "cell_type": "markdown",
      "metadata": {
        "id": "view-in-github",
        "colab_type": "text"
      }
    },
    {
      "cell_type": "markdown",
      "metadata": {
        "id": "bmWA64YAPRtY"
      },
      "source": [
        "# Using TensorFlow  Datasets"
      ]
    },
    {
      "cell_type": "markdown",
      "metadata": {
        "id": "zrZa7CzdPRtf"
      },
      "source": [
        "**TensorFlow Datasets**   \n",
        "Tensorflow/datasets is a library of datasets ready to use with TensorFlow.\n",
        "Module: tensorflow_datasets  \n",
        "Each dataset is defined as a tfds.core.DatasetBuilder which encapsulates the logic to download the dataset and construct an input pipeline, as well as contains the dataset documentation (version, splits, number of examples, etc.).  \n",
        "It handles downloading and preparing the data using: tf.data.Dataset.    \n",
        "https://www.tensorflow.org/datasets/overview"
      ]
    },
    {
      "cell_type": "markdown",
      "metadata": {
        "id": "hOfZONLIPRtg"
      },
      "source": [
        "### Install the datasets  \n",
        "Note: You must have TensorFlow already installed.  \n",
        "Currently depends on tensorflow verion (or tensorflow-gpu) >= 1.15.0."
      ]
    },
    {
      "cell_type": "code",
      "metadata": {
        "id": "pgsoQhV_PRti"
      },
      "source": [
        "!pip install tensorflow-datasets -qq"
      ],
      "execution_count": 2,
      "outputs": []
    },
    {
      "cell_type": "markdown",
      "metadata": {
        "id": "4KeSx0VgPRtk"
      },
      "source": [
        "### Set up Imports"
      ]
    },
    {
      "cell_type": "code",
      "metadata": {
        "id": "aRtqJJ7_PRtk"
      },
      "source": [
        "import matplotlib.pyplot as plt\n",
        "import numpy as np\n",
        "import tensorflow as tf\n",
        "import tensorflow_datasets as tfds\n",
        "tfds.disable_progress_bar()"
      ],
      "execution_count": 6,
      "outputs": []
    },
    {
      "cell_type": "markdown",
      "metadata": {
        "id": "u_neB9rSPRtk"
      },
      "source": [
        "### Important: Citation required for TF Datasets  \n",
        "TensorFlow documentation notes the following when you use TF Datasets:  \n",
        "Include the following citation when using tensorflow-datasets for a paper in addition to any other citation specific to the dataset."
      ]
    },
    {
      "cell_type": "markdown",
      "metadata": {
        "id": "Me8IYsDsPRtl"
      },
      "source": [
        "@misc{TFDS,\n",
        "  title = { {TensorFlow Datasets}, A collection of ready-to-use datasets},  \n",
        "  howpublished = {\\url{https://www.tensorflow.org/datasets}},  \n",
        "}  \n",
        "**CIFAR-10 Citation:**  \n",
        "@TECHREPORT{Krizhevsky09learningmultiple,  \n",
        "    author = {Alex Krizhevsky},  \n",
        "    title = {Learning multiple layers of features from tiny images},  \n",
        "    institution = {},  \n",
        "    year = {2009}  \n",
        "}  "
      ]
    },
    {
      "cell_type": "markdown",
      "metadata": {
        "id": "XHT1z1C1PRtl"
      },
      "source": [
        "### List the available datasets"
      ]
    },
    {
      "cell_type": "markdown",
      "metadata": {
        "id": "xqlYkUlvPRtl"
      },
      "source": [
        "Each dataset is implemented as a tfds.core.DatasetBuilder and you can list all available builders with tfds.list_builders()."
      ]
    },
    {
      "cell_type": "code",
      "metadata": {
        "scrolled": false,
        "id": "y9xb4ggwPRtl",
        "colab": {
          "base_uri": "https://localhost:8080/"
        },
        "outputId": "f7221ca6-a04f-4f89-a478-e217ff5d40d1"
      },
      "source": [
        "tfds.list_builders()"
      ],
      "execution_count": 7,
      "outputs": [
        {
          "output_type": "execute_result",
          "data": {
            "text/plain": [
              "['abstract_reasoning',\n",
              " 'accentdb',\n",
              " 'aeslc',\n",
              " 'aflw2k3d',\n",
              " 'ag_news_subset',\n",
              " 'ai2_arc',\n",
              " 'ai2_arc_with_ir',\n",
              " 'amazon_us_reviews',\n",
              " 'anli',\n",
              " 'arc',\n",
              " 'bair_robot_pushing_small',\n",
              " 'bccd',\n",
              " 'beans',\n",
              " 'big_patent',\n",
              " 'bigearthnet',\n",
              " 'billsum',\n",
              " 'binarized_mnist',\n",
              " 'binary_alpha_digits',\n",
              " 'blimp',\n",
              " 'bool_q',\n",
              " 'c4',\n",
              " 'caltech101',\n",
              " 'caltech_birds2010',\n",
              " 'caltech_birds2011',\n",
              " 'cars196',\n",
              " 'cassava',\n",
              " 'cats_vs_dogs',\n",
              " 'celeb_a',\n",
              " 'celeb_a_hq',\n",
              " 'cfq',\n",
              " 'chexpert',\n",
              " 'cifar10',\n",
              " 'cifar100',\n",
              " 'cifar10_1',\n",
              " 'cifar10_corrupted',\n",
              " 'citrus_leaves',\n",
              " 'cityscapes',\n",
              " 'civil_comments',\n",
              " 'clevr',\n",
              " 'clic',\n",
              " 'clinc_oos',\n",
              " 'cmaterdb',\n",
              " 'cnn_dailymail',\n",
              " 'coco',\n",
              " 'coco_captions',\n",
              " 'coil100',\n",
              " 'colorectal_histology',\n",
              " 'colorectal_histology_large',\n",
              " 'common_voice',\n",
              " 'coqa',\n",
              " 'cos_e',\n",
              " 'cosmos_qa',\n",
              " 'covid19sum',\n",
              " 'crema_d',\n",
              " 'curated_breast_imaging_ddsm',\n",
              " 'cycle_gan',\n",
              " 'deep_weeds',\n",
              " 'definite_pronoun_resolution',\n",
              " 'dementiabank',\n",
              " 'diabetic_retinopathy_detection',\n",
              " 'div2k',\n",
              " 'dmlab',\n",
              " 'downsampled_imagenet',\n",
              " 'dsprites',\n",
              " 'dtd',\n",
              " 'duke_ultrasound',\n",
              " 'emnist',\n",
              " 'eraser_multi_rc',\n",
              " 'esnli',\n",
              " 'eurosat',\n",
              " 'fashion_mnist',\n",
              " 'flic',\n",
              " 'flores',\n",
              " 'food101',\n",
              " 'forest_fires',\n",
              " 'fuss',\n",
              " 'gap',\n",
              " 'geirhos_conflict_stimuli',\n",
              " 'genomics_ood',\n",
              " 'german_credit_numeric',\n",
              " 'gigaword',\n",
              " 'glue',\n",
              " 'goemotions',\n",
              " 'gpt3',\n",
              " 'groove',\n",
              " 'gtzan',\n",
              " 'gtzan_music_speech',\n",
              " 'hellaswag',\n",
              " 'higgs',\n",
              " 'horses_or_humans',\n",
              " 'i_naturalist2017',\n",
              " 'imagenet2012',\n",
              " 'imagenet2012_corrupted',\n",
              " 'imagenet2012_real',\n",
              " 'imagenet2012_subset',\n",
              " 'imagenet_a',\n",
              " 'imagenet_r',\n",
              " 'imagenet_resized',\n",
              " 'imagenet_v2',\n",
              " 'imagenette',\n",
              " 'imagewang',\n",
              " 'imdb_reviews',\n",
              " 'irc_disentanglement',\n",
              " 'iris',\n",
              " 'kitti',\n",
              " 'kmnist',\n",
              " 'lfw',\n",
              " 'librispeech',\n",
              " 'librispeech_lm',\n",
              " 'libritts',\n",
              " 'ljspeech',\n",
              " 'lm1b',\n",
              " 'lost_and_found',\n",
              " 'lsun',\n",
              " 'malaria',\n",
              " 'math_dataset',\n",
              " 'mctaco',\n",
              " 'mnist',\n",
              " 'mnist_corrupted',\n",
              " 'movie_lens',\n",
              " 'movie_rationales',\n",
              " 'movielens',\n",
              " 'moving_mnist',\n",
              " 'multi_news',\n",
              " 'multi_nli',\n",
              " 'multi_nli_mismatch',\n",
              " 'natural_questions',\n",
              " 'natural_questions_open',\n",
              " 'newsroom',\n",
              " 'nsynth',\n",
              " 'nyu_depth_v2',\n",
              " 'omniglot',\n",
              " 'open_images_challenge2019_detection',\n",
              " 'open_images_v4',\n",
              " 'openbookqa',\n",
              " 'opinion_abstracts',\n",
              " 'opinosis',\n",
              " 'opus',\n",
              " 'oxford_flowers102',\n",
              " 'oxford_iiit_pet',\n",
              " 'para_crawl',\n",
              " 'patch_camelyon',\n",
              " 'paws_wiki',\n",
              " 'paws_x_wiki',\n",
              " 'pet_finder',\n",
              " 'pg19',\n",
              " 'places365_small',\n",
              " 'plant_leaves',\n",
              " 'plant_village',\n",
              " 'plantae_k',\n",
              " 'qa4mre',\n",
              " 'qasc',\n",
              " 'quickdraw_bitmap',\n",
              " 'radon',\n",
              " 'reddit',\n",
              " 'reddit_disentanglement',\n",
              " 'reddit_tifu',\n",
              " 'resisc45',\n",
              " 'robonet',\n",
              " 'rock_paper_scissors',\n",
              " 'rock_you',\n",
              " 'salient_span_wikipedia',\n",
              " 'samsum',\n",
              " 'savee',\n",
              " 'scan',\n",
              " 'scene_parse150',\n",
              " 'scicite',\n",
              " 'scientific_papers',\n",
              " 'sentiment140',\n",
              " 'shapes3d',\n",
              " 'smallnorb',\n",
              " 'snli',\n",
              " 'so2sat',\n",
              " 'speech_commands',\n",
              " 'spoken_digit',\n",
              " 'squad',\n",
              " 'stanford_dogs',\n",
              " 'stanford_online_products',\n",
              " 'starcraft_video',\n",
              " 'stl10',\n",
              " 'sun397',\n",
              " 'super_glue',\n",
              " 'svhn_cropped',\n",
              " 'ted_hrlr_translate',\n",
              " 'ted_multi_translate',\n",
              " 'tedlium',\n",
              " 'tf_flowers',\n",
              " 'the300w_lp',\n",
              " 'tiny_shakespeare',\n",
              " 'titanic',\n",
              " 'trec',\n",
              " 'trivia_qa',\n",
              " 'tydi_qa',\n",
              " 'uc_merced',\n",
              " 'ucf101',\n",
              " 'vctk',\n",
              " 'vgg_face2',\n",
              " 'visual_domain_decathlon',\n",
              " 'voc',\n",
              " 'voxceleb',\n",
              " 'voxforge',\n",
              " 'waymo_open_dataset',\n",
              " 'web_questions',\n",
              " 'wider_face',\n",
              " 'wiki40b',\n",
              " 'wikihow',\n",
              " 'wikipedia',\n",
              " 'wikipedia_toxicity_subtypes',\n",
              " 'wine_quality',\n",
              " 'winogrande',\n",
              " 'wmt14_translate',\n",
              " 'wmt15_translate',\n",
              " 'wmt16_translate',\n",
              " 'wmt17_translate',\n",
              " 'wmt18_translate',\n",
              " 'wmt19_translate',\n",
              " 'wmt_t2t_translate',\n",
              " 'wmt_translate',\n",
              " 'wordnet',\n",
              " 'xnli',\n",
              " 'xquad',\n",
              " 'xsum',\n",
              " 'yelp_polarity_reviews',\n",
              " 'yes_no']"
            ]
          },
          "metadata": {
            "tags": []
          },
          "execution_count": 7
        }
      ]
    },
    {
      "cell_type": "markdown",
      "metadata": {
        "id": "Ecia0HEsPRtm"
      },
      "source": [
        "### tfds.load: Load a dataset in one line\n",
        "tfds.load Method is the simplest way to build and load a tf.data.Dataset:\n",
        "https://www.tensorflow.org/datasets/api_docs/python/tfds/load\n",
        "\n",
        "tf.data.Dataset is the standard TensorFlow API to build input pipelines. https://www.tensorflow.org/api_docs/python/tf/data/Dataset  \n",
        "\n",
        "**Load the MNIST training data**    \n",
        "It downloads and prepares the data, unless you specify download=False. Note that once data has been prepared, subsequent calls of load will reuse the prepared data. You can customize where the data is saved/loaded by specifying data_dir= ( defaults to ~/tensorflow_datasets/).  \n",
        "When loading a TF dataset the canonical default version is used. It is recommended to specify the major version of the dataset to use and to advertise which version of the dataset was used in your results. See the documentation on datasets versioning for more details.\n",
        "\n",
        "https://www.tensorflow.org/datasets/catalog/overview\n",
        "\n",
        "**Examples:**  \n",
        "mnist = tfds.load(\"mnist:1.*.*\")  \n",
        "tfds.load('imagenet2012:2.0.1')  \n",
        "tfds.builder('imagenet2012:2.0.1')  \n",
        "tfds.load('imagenet2012:2.0.0')  # Error: unsupported version.  \n",
        "  \n",
        "**Resolves to 3.0.0 for now, but would resolve to 3.1.1 if when added.**  \n",
        "tfds.load('imagenet2012:3.*.*')  "
      ]
    },
    {
      "cell_type": "markdown",
      "metadata": {
        "id": "bPBpHJ-hPRtm"
      },
      "source": [
        "https://www.tensorflow.org/datasets/catalog/overview#all_datasets   \n",
        "**Data Set Categories:**    \n",
        "Audio  \n",
        "Images  \n",
        "Object Detection  \n",
        "Structured  \n",
        "Summarization  \n",
        "Text  \n",
        "Translate  \n",
        "Videos  "
      ]
    },
    {
      "cell_type": "code",
      "metadata": {
        "id": "UDRZlGrpPRtm",
        "colab": {
          "base_uri": "https://localhost:8080/"
        },
        "outputId": "bf499de1-7ca8-462a-8274-4dfd8533677b"
      },
      "source": [
        "#See following two examples:\n",
        "#mnist_train = tfds.load(name=\"mnist:1.*.*\", split=\"train\") if you use this you will get a notice that you are not using the latest\n",
        "#mnist_train = tfds.load(\"mnist:3.*.*\",split=\"train\")  # Latest dataset is obtained but you need latest major version\n",
        "mnist_train = tfds.load(\"mnist\",split=\"train\")  # Latest dataset is obtained\n",
        "assert isinstance(mnist_train, tf.data.Dataset)\n",
        "print(mnist_train)"
      ],
      "execution_count": 8,
      "outputs": [
        {
          "output_type": "stream",
          "text": [
            "\u001b[1mDownloading and preparing dataset mnist/3.0.1 (download: 11.06 MiB, generated: 21.00 MiB, total: 32.06 MiB) to /root/tensorflow_datasets/mnist/3.0.1...\u001b[0m\n"
          ],
          "name": "stdout"
        },
        {
          "output_type": "stream",
          "text": [
            "WARNING:absl:Dataset mnist is hosted on GCS. It will automatically be downloaded to your\n",
            "local data directory. If you'd instead prefer to read directly from our public\n",
            "GCS bucket (recommended if you're running on GCP), you can instead pass\n",
            "`try_gcs=True` to `tfds.load` or set `data_dir=gs://tfds-data/datasets`.\n",
            "\n"
          ],
          "name": "stderr"
        },
        {
          "output_type": "stream",
          "text": [
            "\u001b[1mDataset mnist downloaded and prepared to /root/tensorflow_datasets/mnist/3.0.1. Subsequent calls will reuse this data.\u001b[0m\n",
            "<PrefetchDataset shapes: {image: (28, 28, 1), label: ()}, types: {image: tf.uint8, label: tf.int64}>\n"
          ],
          "name": "stdout"
        }
      ]
    },
    {
      "cell_type": "markdown",
      "metadata": {
        "id": "I9YvwPUbPRtn"
      },
      "source": [
        "### Feature Dictionaries  \n",
        "All TensorFlow datasets contain feature dictionaries which map feature names to Tensor values.  \n",
        "Example:  \n",
        "A typical dataset will have 2 keys: \"image\" and \"label\"."
      ]
    },
    {
      "cell_type": "code",
      "metadata": {
        "id": "c4UBJ-rnPRtn",
        "colab": {
          "base_uri": "https://localhost:8080/",
          "height": 282
        },
        "outputId": "1842923a-5c0c-42aa-bba7-05755e1843c7"
      },
      "source": [
        "#Obtain a single example from the Feature Dictionary\n",
        "for mnist_example in mnist_train.take(100):   # Let's look at the 100th image in the Feature Dictionary \n",
        "    image, label = mnist_example[\"image\"], mnist_example[\"label\"]\n",
        "\n",
        "    plt.imshow(image.numpy()[:, :, 0].astype(np.float32), cmap=plt.get_cmap(\"gray\"))\n",
        "print(f\"Label: {label.numpy()}\")"
      ],
      "execution_count": 10,
      "outputs": [
        {
          "output_type": "stream",
          "text": [
            "Label: 6\n"
          ],
          "name": "stdout"
        },
        {
          "output_type": "display_data",
          "data": {
            "image/png": "[encoded data removed]",
            "text/plain": [
              "<Figure size 432x288 with 1 Axes>"
            ]
          },
          "metadata": {
            "tags": [],
            "needs_background": "light"
          }
        }
      ]
    },
    {
      "cell_type": "code",
      "metadata": {
        "id": "XS_Ngz39PRtn",
        "colab": {
          "base_uri": "https://localhost:8080/"
        },
        "outputId": "b8741b84-ca12-4b81-de62-9a8140bc31a0"
      },
      "source": [
        "cifar10_train = tfds.load(\"cifar10\",split=\"train\") "
      ],
      "execution_count": 11,
      "outputs": [
        {
          "output_type": "stream",
          "text": [
            "\u001b[1mDownloading and preparing dataset cifar10/3.0.2 (download: 162.17 MiB, generated: 132.40 MiB, total: 294.58 MiB) to /root/tensorflow_datasets/cifar10/3.0.2...\u001b[0m\n",
            "Shuffling and writing examples to /root/tensorflow_datasets/cifar10/3.0.2.incompleteWT30FE/cifar10-train.tfrecord\n",
            "Shuffling and writing examples to /root/tensorflow_datasets/cifar10/3.0.2.incompleteWT30FE/cifar10-test.tfrecord\n",
            "\u001b[1mDataset cifar10 downloaded and prepared to /root/tensorflow_datasets/cifar10/3.0.2. Subsequent calls will reuse this data.\u001b[0m\n"
          ],
          "name": "stdout"
        }
      ]
    },
    {
      "cell_type": "markdown",
      "metadata": {
        "id": "wsRUWay-PRtn"
      },
      "source": [
        "**CFAR-10 Features Dictionary defines keys: image and label.**  \n",
        "FeaturesDict({  \n",
        "    'image': Image(shape=(32, 32, 3), dtype=tf.uint8),  \n",
        "    'label': ClassLabel(shape=(), dtype=tf.int64, num_classes=10),  \n",
        "})  "
      ]
    },
    {
      "cell_type": "code",
      "metadata": {
        "id": "KP_DIhqDPRto",
        "colab": {
          "base_uri": "https://localhost:8080/",
          "height": 283
        },
        "outputId": "58742acd-d2e1-4cad-9cdf-3d8b5ee05b0b"
      },
      "source": [
        "#Obtain a single example from the Feature Dictionary\n",
        "for cifar10_example in cifar10_train.take(1):   # Let's look at the 1st image in the Feature Dictionary \n",
        "    image, label = cifar10_example[\"image\"], cifar10_example[\"label\"]\n",
        "\n",
        "    plt.imshow(image.numpy()[:, :, 0].astype(np.float32), cmap=plt.get_cmap())   #default is color\n",
        "print(f\"Label: {label.numpy()}\")"
      ],
      "execution_count": 12,
      "outputs": [
        {
          "output_type": "stream",
          "text": [
            "Label: 7\n"
          ],
          "name": "stdout"
        },
        {
          "output_type": "display_data",
          "data": {
            "image/png": "[encoded data removed]",
            "text/plain": [
              "<Figure size 432x288 with 1 Axes>"
            ]
          },
          "metadata": {
            "tags": [],
            "needs_background": "light"
          }
        }
      ]
    },
    {
      "cell_type": "markdown",
      "metadata": {
        "id": "XMScBONxPRto"
      },
      "source": [
        "### DatasetBuilder\n",
        "tfds.load is  a thin conveninence wrapper around DatasetBuilder. We can accomplish the same as above directly with the MNIST DatasetBuilder.  "
      ]
    },
    {
      "cell_type": "code",
      "metadata": {
        "id": "auhb4axWPRto",
        "colab": {
          "base_uri": "https://localhost:8080/"
        },
        "outputId": "e998bcc1-fc0e-4bf9-f5af-e8695db5e1ff"
      },
      "source": [
        "mnist_builder = tfds.builder(\"mnist\")\n",
        "mnist_builder.download_and_prepare()\n",
        "mnist_train = mnist_builder.as_dataset(split=\"train\")\n",
        "mnist_train"
      ],
      "execution_count": 14,
      "outputs": [
        {
          "output_type": "execute_result",
          "data": {
            "text/plain": [
              "<PrefetchDataset shapes: {image: (28, 28, 1), label: ()}, types: {image: tf.uint8, label: tf.int64}>"
            ]
          },
          "metadata": {
            "tags": []
          },
          "execution_count": 14
        }
      ]
    },
    {
      "cell_type": "markdown",
      "metadata": {
        "id": "6KfYbVSwPRto"
      },
      "source": [
        "### Dataset Info  \n",
        "The builder (mnist_builder) contains useful information about the dataset."
      ]
    },
    {
      "cell_type": "code",
      "metadata": {
        "id": "7Ll2rY1DPRtp",
        "colab": {
          "base_uri": "https://localhost:8080/"
        },
        "outputId": "795946f1-6352-4272-c26b-a8ab62645745"
      },
      "source": [
        "info = mnist_builder.info\n",
        "print(info)"
      ],
      "execution_count": 15,
      "outputs": [
        {
          "output_type": "stream",
          "text": [
            "tfds.core.DatasetInfo(\n",
            "    name='mnist',\n",
            "    version=3.0.1,\n",
            "    description='The MNIST database of handwritten digits.',\n",
            "    homepage='http://yann.lecun.com/exdb/mnist/',\n",
            "    features=FeaturesDict({\n",
            "        'image': Image(shape=(28, 28, 1), dtype=tf.uint8),\n",
            "        'label': ClassLabel(shape=(), dtype=tf.int64, num_classes=10),\n",
            "    }),\n",
            "    total_num_examples=70000,\n",
            "    splits={\n",
            "        'test': 10000,\n",
            "        'train': 60000,\n",
            "    },\n",
            "    supervised_keys=('image', 'label'),\n",
            "    citation=\"\"\"@article{lecun2010mnist,\n",
            "      title={MNIST handwritten digit database},\n",
            "      author={LeCun, Yann and Cortes, Corinna and Burges, CJ},\n",
            "      journal={ATT Labs [Online]. Available: http://yann.lecun.com/exdb/mnist},\n",
            "      volume={2},\n",
            "      year={2010}\n",
            "    }\"\"\",\n",
            "    redistribution_info=,\n",
            ")\n",
            "\n"
          ],
          "name": "stdout"
        }
      ]
    },
    {
      "cell_type": "markdown",
      "metadata": {
        "id": "DiJsZkN_PRtq"
      },
      "source": [
        "### Another alternative to print Features Info\n",
        "You can obtain info on the Data set in the load module."
      ]
    },
    {
      "cell_type": "code",
      "metadata": {
        "id": "RIxOe6RHPRtq",
        "colab": {
          "base_uri": "https://localhost:8080/"
        },
        "outputId": "528f7406-878c-4da9-bac0-b558bf660b32"
      },
      "source": [
        "mnist_test, info = tfds.load(\"mnist\", split=\"test\", with_info=True)\n",
        "print(info)"
      ],
      "execution_count": 16,
      "outputs": [
        {
          "output_type": "stream",
          "text": [
            "tfds.core.DatasetInfo(\n",
            "    name='mnist',\n",
            "    version=3.0.1,\n",
            "    description='The MNIST database of handwritten digits.',\n",
            "    homepage='http://yann.lecun.com/exdb/mnist/',\n",
            "    features=FeaturesDict({\n",
            "        'image': Image(shape=(28, 28, 1), dtype=tf.uint8),\n",
            "        'label': ClassLabel(shape=(), dtype=tf.int64, num_classes=10),\n",
            "    }),\n",
            "    total_num_examples=70000,\n",
            "    splits={\n",
            "        'test': 10000,\n",
            "        'train': 60000,\n",
            "    },\n",
            "    supervised_keys=('image', 'label'),\n",
            "    citation=\"\"\"@article{lecun2010mnist,\n",
            "      title={MNIST handwritten digit database},\n",
            "      author={LeCun, Yann and Cortes, Corinna and Burges, CJ},\n",
            "      journal={ATT Labs [Online]. Available: http://yann.lecun.com/exdb/mnist},\n",
            "      volume={2},\n",
            "      year={2010}\n",
            "    }\"\"\",\n",
            "    redistribution_info=,\n",
            ")\n",
            "\n"
          ],
          "name": "stdout"
        }
      ]
    },
    {
      "cell_type": "markdown",
      "metadata": {
        "id": "4mZe0kVFPRtr"
      },
      "source": [
        "### DataSet (Features Info)\n",
        "You can also obtain info about the Features of a Data set.  "
      ]
    },
    {
      "cell_type": "code",
      "metadata": {
        "id": "bQPf6rZbPRtr",
        "colab": {
          "base_uri": "https://localhost:8080/"
        },
        "outputId": "92d4e8fa-84f4-427f-8975-22579987a9df"
      },
      "source": [
        "print(info.features)\n",
        "print(info.features[\"label\"].num_classes)\n",
        "print(info.features[\"label\"].names)"
      ],
      "execution_count": 17,
      "outputs": [
        {
          "output_type": "stream",
          "text": [
            "FeaturesDict({\n",
            "    'image': Image(shape=(28, 28, 1), dtype=tf.uint8),\n",
            "    'label': ClassLabel(shape=(), dtype=tf.int64, num_classes=10),\n",
            "})\n",
            "10\n",
            "['0', '1', '2', '3', '4', '5', '6', '7', '8', '9']\n"
          ],
          "name": "stdout"
        }
      ]
    },
    {
      "cell_type": "markdown",
      "metadata": {
        "id": "SpNm16rsPRtr"
      },
      "source": [
        "### Input pipelines\n",
        "Once you have a tf.data.Dataset object, you can define the rest of an input pipeline suitable for model training by using the tf.data API.\n",
        "\n",
        "The following repeats the dataset so that we have an infinite stream of examples, shuffle, and create batches of 32."
      ]
    },
    {
      "cell_type": "code",
      "metadata": {
        "id": "VNpdg-N9PRtr"
      },
      "source": [
        "mnist_train = mnist_train.repeat().shuffle(1024).batch(32)\n",
        "\n",
        "# prefetch will enable the input pipeline to asynchronously fetch batches while\n",
        "# your model is training.\n",
        "mnist_train = mnist_train.prefetch(tf.data.experimental.AUTOTUNE)\n",
        "\n",
        "# You could loop over batches of the dataset and train\n",
        "# for batches in mnist_train\n"
      ],
      "execution_count": 18,
      "outputs": []
    },
    {
      "cell_type": "markdown",
      "metadata": {
        "id": "sp4S6DKFPRts"
      },
      "source": [
        "### Visualization\n",
        "For image classification data sets, use tdfs.show_examples to display some example images.  \n",
        "Note: Requires matplotlib to be installed  \n",
        "https://www.tensorflow.org/datasets/api_docs/python/tfds/show_examples"
      ]
    },
    {
      "cell_type": "code",
      "metadata": {
        "id": "lZb_pFlEPRts",
        "colab": {
          "base_uri": "https://localhost:8080/",
          "height": 534
        },
        "outputId": "09967216-3e87-4815-e3d8-148b25486c23"
      },
      "source": [
        "fig = tfds.show_examples(mnist_test, info)"
      ],
      "execution_count": 20,
      "outputs": [
        {
          "output_type": "display_data",
          "data": {
            "image/png": "[encoded data removed]",
            "text/plain": [
              "<Figure size 648x648 with 9 Axes>"
            ]
          },
          "metadata": {
            "tags": []
          }
        }
      ]
    },
    {
      "cell_type": "code",
      "metadata": {
        "id": "CBJ1M2PQPRts",
        "colab": {
          "base_uri": "https://localhost:8080/",
          "height": 1000
        },
        "outputId": "f7aa969c-10a5-4557-b819-97d0de7bcebe"
      },
      "source": [
        "tfds.show_examples(info, mnist_test, rows=3, cols=4, plot_scale=3.0, image_key=None)"
      ],
      "execution_count": 21,
      "outputs": [
        {
          "output_type": "stream",
          "text": [
            "WARNING: For consistency with `tfds.load`, the `tfds.show_examples` signature has been modified from (info, ds) to (ds, info).\n",
            "The old signature is deprecated and will be removed. Please change your call to `tfds.show_examples(ds, info)`\n"
          ],
          "name": "stdout"
        },
        {
          "output_type": "display_data",
          "data": {
            "image/png": "[encoded data removed]",
            "text/plain": [
              "<Figure size 864x648 with 12 Axes>"
            ]
          },
          "metadata": {
            "tags": []
          }
        },
        {
          "output_type": "execute_result",
          "data": {
            "image/png": "[encoded data removed]",
            "text/plain": [
              "<Figure size 864x648 with 12 Axes>"
            ]
          },
          "metadata": {
            "tags": []
          },
          "execution_count": 21
        }
      ]
    },
    {
      "cell_type": "code",
      "metadata": {
        "id": "dAB4muSUPRtt",
        "colab": {
          "base_uri": "https://localhost:8080/",
          "height": 534
        },
        "outputId": "666e6559-27c0-46b4-abc2-a888339a675b"
      },
      "source": [
        "# Another example from cifar10\n",
        "ds, ds_info = tfds.load('cifar10', split='train', with_info=True)\n",
        "fig = tfds.show_examples(ds, ds_info)"
      ],
      "execution_count": 23,
      "outputs": [
        {
          "output_type": "display_data",
          "data": {
            "image/png": "[encoded data removed]",
            "text/plain": [
              "<Figure size 648x648 with 9 Axes>"
            ]
          },
          "metadata": {
            "tags": []
          }
        }
      ]
    }
  ]
}