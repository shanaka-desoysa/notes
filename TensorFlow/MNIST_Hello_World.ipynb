{
  "nbformat": 4,
  "nbformat_minor": 0,
  "metadata": {
    "colab": {
      "name": "MNIST Hello World.ipynb",
      "version": "0.3.2",
      "provenance": [],
      "include_colab_link": true
    },
    "kernelspec": {
      "name": "python3",
      "display_name": "Python 3"
    },
    "accelerator": "GPU"
  },
  "cells": [
    {
      "cell_type": "markdown",
      "metadata": {
        "id": "view-in-github",
        "colab_type": "text"
      },
      "source": [
        "<a href=\"https://colab.research.google.com/github/shanaka-desoysa/shanaka-desoysa.github.io/blob/source/content/hello/MNIST_Hello_World2.ipynb\" target=\"_parent\"><img src=\"https://colab.research.google.com/assets/colab-badge.svg\" alt=\"Open In Colab\"/></a>"
      ]
    },
    {
      "metadata": {
        "id": "Pb4cLNwUJWTo",
        "colab_type": "text"
      },
      "cell_type": "markdown",
      "source": [
        "# Hello World to Deep Learning using MNIST Dataset"
      ]
    },
    {
      "metadata": {
        "id": "BDhxSAJ6JWTq",
        "colab_type": "text"
      },
      "cell_type": "markdown",
      "source": [
        "### Loading MNIST dataset"
      ]
    },
    {
      "metadata": {
        "id": "Z340sqgWJWTq",
        "colab_type": "code",
        "outputId": "454b6d58-d630-46fe-c76e-af3da699fc20",
        "colab": {
          "base_uri": "https://localhost:8080/",
          "height": 68
        }
      },
      "cell_type": "code",
      "source": [
        "from keras.datasets import mnist\n",
        "\n",
        "(train_images, train_labels), (test_images, test_labels) = mnist.load_data()"
      ],
      "execution_count": 1,
      "outputs": [
        {
          "output_type": "stream",
          "text": [
            "Using TensorFlow backend.\n"
          ],
          "name": "stderr"
        },
        {
          "output_type": "stream",
          "text": [
            "Downloading data from https://s3.amazonaws.com/img-datasets/mnist.npz\n",
            "11493376/11490434 [==============================] - 1s 0us/step\n"
          ],
          "name": "stdout"
        }
      ]
    },
    {
      "metadata": {
        "collapsed": true,
        "id": "tfK1aEMrJWTu",
        "colab_type": "text"
      },
      "cell_type": "markdown",
      "source": [
        "### Training data"
      ]
    },
    {
      "metadata": {
        "id": "7cAcUx1bJWTv",
        "colab_type": "code",
        "outputId": "081fc04e-fcc2-4803-d56b-9ed13f7aec85",
        "colab": {
          "base_uri": "https://localhost:8080/",
          "height": 68
        }
      },
      "cell_type": "code",
      "source": [
        "print(train_images.shape)\n",
        "print(len(train_labels))\n",
        "print(train_labels)"
      ],
      "execution_count": 2,
      "outputs": [
        {
          "output_type": "stream",
          "text": [
            "(60000, 28, 28)\n",
            "60000\n",
            "[5 0 4 ... 5 6 8]\n"
          ],
          "name": "stdout"
        }
      ]
    },
    {
      "metadata": {
        "id": "hnxBgoi1JWTy",
        "colab_type": "text"
      },
      "cell_type": "markdown",
      "source": [
        "### Test Data"
      ]
    },
    {
      "metadata": {
        "id": "bUcCb7B-JWTz",
        "colab_type": "code",
        "outputId": "28482006-d5f9-4d35-ef37-18c36bebce6d",
        "colab": {
          "base_uri": "https://localhost:8080/",
          "height": 68
        }
      },
      "cell_type": "code",
      "source": [
        "print(test_images.shape)\n",
        "print(len(test_labels))\n",
        "print(test_labels)"
      ],
      "execution_count": 3,
      "outputs": [
        {
          "output_type": "stream",
          "text": [
            "(10000, 28, 28)\n",
            "10000\n",
            "[7 2 1 ... 4 5 6]\n"
          ],
          "name": "stdout"
        }
      ]
    },
    {
      "metadata": {
        "id": "gFO3GxKzJWT2",
        "colab_type": "text"
      },
      "cell_type": "markdown",
      "source": [
        "### Neural Network Architecture"
      ]
    },
    {
      "metadata": {
        "id": "Kkxh2aoLJWT2",
        "colab_type": "code",
        "colab": {
          "base_uri": "https://localhost:8080/",
          "height": 88
        },
        "outputId": "e02a5bb2-b24f-45cc-92fe-9b505ed6ee6c"
      },
      "cell_type": "code",
      "source": [
        "from keras import models\n",
        "from keras import layers\n",
        "\n",
        "network = models.Sequential()\n",
        "network.add(layers.Dense(512, activation='relu', input_shape=(28 * 28,)))\n",
        "network.add(layers.Dense(10, activation='softmax'))"
      ],
      "execution_count": 4,
      "outputs": [
        {
          "output_type": "stream",
          "text": [
            "WARNING:tensorflow:From /usr/local/lib/python3.6/dist-packages/tensorflow/python/framework/op_def_library.py:263: colocate_with (from tensorflow.python.framework.ops) is deprecated and will be removed in a future version.\n",
            "Instructions for updating:\n",
            "Colocations handled automatically by placer.\n"
          ],
          "name": "stdout"
        }
      ]
    },
    {
      "metadata": {
        "id": "lVwT13A0JWT5",
        "colab_type": "text"
      },
      "cell_type": "markdown",
      "source": [
        "### Compilation Step"
      ]
    },
    {
      "metadata": {
        "id": "c43QbQlDJWT5",
        "colab_type": "code",
        "colab": {}
      },
      "cell_type": "code",
      "source": [
        "network.compile(optimizer='rmsprop',\n",
        "                loss='categorical_crossentropy',\n",
        "                metrics=['accuracy'])"
      ],
      "execution_count": 0,
      "outputs": []
    },
    {
      "metadata": {
        "id": "RG0WIMxAJWT8",
        "colab_type": "text"
      },
      "cell_type": "markdown",
      "source": [
        "### Preparing Image Data"
      ]
    },
    {
      "metadata": {
        "id": "Tc5C2Lj5JWT8",
        "colab_type": "code",
        "colab": {}
      },
      "cell_type": "code",
      "source": [
        "train_images = train_images.reshape((60000, 28 * 28))\n",
        "train_images = train_images.astype('float32') / 255\n",
        "\n",
        "test_images = test_images.reshape((10000, 28 * 28))\n",
        "test_images = test_images.astype('float32') / 255"
      ],
      "execution_count": 0,
      "outputs": []
    },
    {
      "metadata": {
        "id": "_ZNUnd6RJWT_",
        "colab_type": "text"
      },
      "cell_type": "markdown",
      "source": [
        "### Preparing the Labels"
      ]
    },
    {
      "metadata": {
        "id": "pTga_xoXJWUA",
        "colab_type": "code",
        "colab": {}
      },
      "cell_type": "code",
      "source": [
        "from keras.utils import to_categorical\n",
        "\n",
        "train_labels = to_categorical(train_labels)\n",
        "test_labels = to_categorical(test_labels)"
      ],
      "execution_count": 0,
      "outputs": []
    },
    {
      "metadata": {
        "id": "1aCSr2TMJWUD",
        "colab_type": "text"
      },
      "cell_type": "markdown",
      "source": [
        "### Training the Network"
      ]
    },
    {
      "metadata": {
        "id": "xyoOqlS_JWUE",
        "colab_type": "code",
        "outputId": "821f38ea-cfd6-4023-d5e3-bedec9d0b534",
        "colab": {
          "base_uri": "https://localhost:8080/",
          "height": 428
        }
      },
      "cell_type": "code",
      "source": [
        "history =  network.fit(train_images, train_labels, epochs=10, batch_size=128)"
      ],
      "execution_count": 8,
      "outputs": [
        {
          "output_type": "stream",
          "text": [
            "WARNING:tensorflow:From /usr/local/lib/python3.6/dist-packages/tensorflow/python/ops/math_ops.py:3066: to_int32 (from tensorflow.python.ops.math_ops) is deprecated and will be removed in a future version.\n",
            "Instructions for updating:\n",
            "Use tf.cast instead.\n",
            "Epoch 1/10\n",
            "60000/60000 [==============================] - 5s 78us/step - loss: 0.2538 - acc: 0.9270\n",
            "Epoch 2/10\n",
            "60000/60000 [==============================] - 2s 35us/step - loss: 0.1047 - acc: 0.9688\n",
            "Epoch 3/10\n",
            "60000/60000 [==============================] - 2s 33us/step - loss: 0.0679 - acc: 0.9799\n",
            "Epoch 4/10\n",
            "60000/60000 [==============================] - 2s 34us/step - loss: 0.0491 - acc: 0.9853\n",
            "Epoch 5/10\n",
            "60000/60000 [==============================] - 2s 34us/step - loss: 0.0372 - acc: 0.9885\n",
            "Epoch 6/10\n",
            "60000/60000 [==============================] - 2s 34us/step - loss: 0.0283 - acc: 0.9917\n",
            "Epoch 7/10\n",
            "60000/60000 [==============================] - 2s 34us/step - loss: 0.0218 - acc: 0.9936\n",
            "Epoch 8/10\n",
            "60000/60000 [==============================] - 2s 34us/step - loss: 0.0174 - acc: 0.9947\n",
            "Epoch 9/10\n",
            "60000/60000 [==============================] - 2s 34us/step - loss: 0.0131 - acc: 0.9964\n",
            "Epoch 10/10\n",
            "60000/60000 [==============================] - 2s 33us/step - loss: 0.0102 - acc: 0.9969\n"
          ],
          "name": "stdout"
        }
      ]
    },
    {
      "metadata": {
        "id": "U_9V2j2sJWUI",
        "colab_type": "code",
        "outputId": "57a5b7dc-31b1-492f-f9e8-409fd89988d0",
        "colab": {
          "base_uri": "https://localhost:8080/",
          "height": 34
        }
      },
      "cell_type": "code",
      "source": [
        "history_dict = history.history\n",
        "history_dict.keys()"
      ],
      "execution_count": 9,
      "outputs": [
        {
          "output_type": "execute_result",
          "data": {
            "text/plain": [
              "dict_keys(['loss', 'acc'])"
            ]
          },
          "metadata": {
            "tags": []
          },
          "execution_count": 9
        }
      ]
    },
    {
      "metadata": {
        "id": "IQnfWSESJWUK",
        "colab_type": "text"
      },
      "cell_type": "markdown",
      "source": [
        "### Plot Training Loss"
      ]
    },
    {
      "metadata": {
        "id": "3elKEIwyJWUL",
        "colab_type": "code",
        "outputId": "759a5354-ecfb-4019-b650-39550a0fc078",
        "colab": {
          "base_uri": "https://localhost:8080/",
          "height": 361
        }
      },
      "cell_type": "code",
      "source": [
        "import matplotlib.pyplot as plt\n",
        "\n",
        "loss_values = history_dict['loss']\n",
        "#val_loss_values = history_dict['val_loss']\n",
        "epochs = range(1, len(loss_values) + 1)\n",
        "\n",
        "# \"bo\" is for \"blue dot\"\n",
        "plt.plot(epochs, loss_values, 'bo')\n",
        "# b+ is for \"blue crosses\"\n",
        "#plt.plot(epochs, val_loss_values, 'b+')\n",
        "plt.xlabel('Epochs')\n",
        "plt.ylabel('Loss')\n",
        "\n",
        "plt.show()"
      ],
      "execution_count": 10,
      "outputs": [
        {
          "output_type": "display_data",
          "data": {
            "image/png": "[encoded data removed]",
            "text/plain": [
              "<Figure size 576x396 with 1 Axes>"
            ]
          },
          "metadata": {
            "tags": []
          }
        }
      ]
    },
    {
      "metadata": {
        "id": "w1cmA29UJWUN",
        "colab_type": "text"
      },
      "cell_type": "markdown",
      "source": [
        "### Plot Training Accuracy"
      ]
    },
    {
      "metadata": {
        "id": "Ow-CakthJWUO",
        "colab_type": "code",
        "outputId": "be84bc78-ca5e-403e-8dba-9a0e39f916ca",
        "colab": {
          "base_uri": "https://localhost:8080/",
          "height": 363
        }
      },
      "cell_type": "code",
      "source": [
        "plt.clf()   # clear figure\n",
        "acc_values = history_dict['acc']\n",
        "#val_acc_values = history_dict['val_acc']\n",
        "\n",
        "plt.plot(epochs, acc_values, 'bo')\n",
        "#plt.plot(epochs, val_acc_values, 'b+')\n",
        "plt.xlabel('Epochs')\n",
        "plt.ylabel('Accuracy')\n",
        "\n",
        "plt.show()"
      ],
      "execution_count": 11,
      "outputs": [
        {
          "output_type": "display_data",
          "data": {
            "image/png": "[encoded data removed]",
            "text/plain": [
              "<Figure size 576x396 with 1 Axes>"
            ]
          },
          "metadata": {
            "tags": []
          }
        }
      ]
    },
    {
      "metadata": {
        "id": "Oo7ogullJWUR",
        "colab_type": "text"
      },
      "cell_type": "markdown",
      "source": [
        "### Evaluate the Network"
      ]
    },
    {
      "metadata": {
        "id": "jgx0GCK5JWUS",
        "colab_type": "code",
        "outputId": "068b2fe1-d615-4dd6-d84e-159ef91967b3",
        "colab": {
          "base_uri": "https://localhost:8080/",
          "height": 68
        }
      },
      "cell_type": "code",
      "source": [
        "test_loss, test_acc = network.evaluate(test_images, test_labels)\n",
        "print('test_loss:', test_loss)\n",
        "print('test_acc:', test_acc)"
      ],
      "execution_count": 12,
      "outputs": [
        {
          "output_type": "stream",
          "text": [
            "10000/10000 [==============================] - 0s 48us/step\n",
            "test_loss: 0.07121012202903367\n",
            "test_acc: 0.9803\n"
          ],
          "name": "stdout"
        }
      ]
    },
    {
      "metadata": {
        "id": "k759tuO7JWUW",
        "colab_type": "text"
      },
      "cell_type": "markdown",
      "source": [
        "### Predict the Values"
      ]
    },
    {
      "metadata": {
        "id": "VBJBVwmxJWUX",
        "colab_type": "code",
        "colab": {}
      },
      "cell_type": "code",
      "source": [
        "predicted = network.predict(test_images)"
      ],
      "execution_count": 0,
      "outputs": []
    },
    {
      "metadata": {
        "id": "neFE4AdzJWUZ",
        "colab_type": "text"
      },
      "cell_type": "markdown",
      "source": [
        "### Test Some Random Images"
      ]
    },
    {
      "metadata": {
        "scrolled": false,
        "id": "Tmzb4_9pJWUa",
        "colab_type": "code",
        "outputId": "379e566a-f453-4e24-985e-98aeb92e6dfc",
        "colab": {
          "base_uri": "https://localhost:8080/",
          "height": 401
        }
      },
      "cell_type": "code",
      "source": [
        "from random import randint\n",
        "import numpy as np\n",
        "import matplotlib.pyplot as plt\n",
        "from keras.preprocessing import image\n",
        "\n",
        "for i in range(0, 4):\n",
        "    rnd_img = randint(0, 10000)\n",
        "    splt = plt.subplot(221 + (i%4))\n",
        "    plt.tight_layout()\n",
        "    splt.set_title(np.argmax(predicted[rnd_img]))\n",
        "    imgplot = plt.imshow(image.array_to_img(test_images[rnd_img].reshape(28,28,1)))\n",
        "\n",
        "plt.show()"
      ],
      "execution_count": 14,
      "outputs": [
        {
          "output_type": "display_data",
          "data": {
            "image/png": "[encoded data removed]",
            "text/plain": [
              "<Figure size 576x396 with 4 Axes>"
            ]
          },
          "metadata": {
            "tags": []
          }
        }
      ]
    }
  ]
}