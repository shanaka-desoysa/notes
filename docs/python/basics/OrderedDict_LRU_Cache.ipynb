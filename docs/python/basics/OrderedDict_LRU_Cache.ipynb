{
  "nbformat": 4,
  "nbformat_minor": 0,
  "metadata": {
    "colab": {
      "name": "Python_Hello.ipynb",
      "provenance": []
    },
    "kernelspec": {
      "display_name": "Python 3",
      "language": "python",
      "name": "python3"
    },
    "language_info": {
      "codemirror_mode": {
        "name": "ipython",
        "version": 3
      },
      "file_extension": ".py",
      "mimetype": "text/x-python",
      "name": "python",
      "nbconvert_exporter": "python",
      "pygments_lexer": "ipython3",
      "version": "3.7.6"
    }
  },
  "cells": [
    {
      "cell_type": "markdown",
      "metadata": {
        "id": "6n0MGPoSTo74",
        "colab_type": "text"
      },
      "source": [
        "# ISO 8601 Timestamp in Python"
      ]
    },
    {
      "cell_type": "markdown",
      "metadata": {
        "id": "wXHTj8BmTo75",
        "colab_type": "text"
      },
      "source": [
        "[ISO 8601]('https://en.wikipedia.org/wiki/ISO_8601') *Data elements and interchange formats – Information interchange – Representation of dates and times* is an international standard covering the exchange of date- and time-related data. It was issued by the International Organization for Standardization (ISO) and was first published in 1988."
      ]
    },
    {
      "cell_type": "code",
      "metadata": {
        "id": "AUjoto07To76",
        "colab_type": "code",
        "colab": {}
      },
      "source": [
        "from datetime import datetime, timezone, tzinfo"
      ],
      "execution_count": 0,
      "outputs": []
    },
    {
      "cell_type": "markdown",
      "metadata": {
        "id": "gh24nct6To7-",
        "colab_type": "text"
      },
      "source": [
        "## UTC Time"
      ]
    },
    {
      "cell_type": "code",
      "metadata": {
        "id": "6S4o3-CnTo7_",
        "colab_type": "code",
        "colab": {},
        "outputId": "f9db73dc-ef69-4636-ada7-468d7817cdb8"
      },
      "source": [
        "# UTC time now\n",
        "print(datetime.utcnow().replace(microsecond=0).isoformat())"
      ],
      "execution_count": 0,
      "outputs": [
        {
          "output_type": "stream",
          "text": [
            "2020-05-12T16:16:06\n"
          ],
          "name": "stdout"
        }
      ]
    },
    {
      "cell_type": "code",
      "metadata": {
        "id": "uQVl2jVMTo8D",
        "colab_type": "code",
        "colab": {},
        "outputId": "e60defbb-1622-4238-b219-a4674890e442"
      },
      "source": [
        "# UTC time now with timezone info\n",
        "print(datetime.now().astimezone(tz=timezone.utc).replace(microsecond=0).isoformat())"
      ],
      "execution_count": 0,
      "outputs": [
        {
          "output_type": "stream",
          "text": [
            "2020-05-12T16:16:06+00:00\n"
          ],
          "name": "stdout"
        }
      ]
    },
    {
      "cell_type": "markdown",
      "metadata": {
        "id": "jWspR0AgTo8G",
        "colab_type": "text"
      },
      "source": [
        "## Local Time"
      ]
    },
    {
      "cell_type": "code",
      "metadata": {
        "id": "17LCBCCfTo8H",
        "colab_type": "code",
        "colab": {},
        "outputId": "3c8d52b8-a8b9-4683-8bd7-29a46276b7b9"
      },
      "source": [
        "# Local time now with timezone info\n",
        "print(datetime.now().astimezone().replace(microsecond=0).isoformat())"
      ],
      "execution_count": 0,
      "outputs": [
        {
          "output_type": "stream",
          "text": [
            "2020-05-12T12:16:06-04:00\n"
          ],
          "name": "stdout"
        }
      ]
    },
    {
      "cell_type": "markdown",
      "metadata": {
        "colab_type": "text",
        "id": "view-in-github"
      },
      "source": [
        "<a href=\"https://colab.research.google.com/github/shanaka-desoysa/notes/blob/master/content/python/basics/Python_ISO_8601.ipynb\" target=\"_blank\"><img src=\"https://colab.research.google.com/assets/colab-badge.svg\" alt=\"Open In Colab\"/></a>"
      ]
    }
  ]
}