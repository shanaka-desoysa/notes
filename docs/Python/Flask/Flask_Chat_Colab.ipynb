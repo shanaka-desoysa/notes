{
  "nbformat": 4,
  "nbformat_minor": 0,
  "metadata": {
    "colab": {
      "name": "Flask-Chat-Colab",
      "provenance": [],
      "collapsed_sections": [],
      "include_colab_link": true
    },
    "kernelspec": {
      "name": "python3",
      "display_name": "Python 3"
    }
  },
  "cells": [
    {
      "cell_type": "markdown",
      "metadata": {
        "id": "view-in-github",
        "colab_type": "text"
      },
      "source": [
        "<a href=\"https://colab.research.google.com/github/shanaka-desoysa/notes/blob/main/docs/Python/Flask/Flask_Chat_Colab.ipynb\" target=\"_blank\"><img src=\"https://colab.research.google.com/assets/colab-badge.svg\" alt=\"Open In Colab\"/></a>"
      ]
    },
    {
      "cell_type": "markdown",
      "metadata": {
        "id": "IIm8fEsSoytA"
      },
      "source": [
        "# Chat App Using Flask, SocketIO and Google Colab\n",
        "In this short tutorial, you'll learn how to create a simple but elegant chat app and host it on Google Cloud (for free) under 5 minutes .\n",
        "\n",
        "Here's how the App would look like:\n",
        "\n",
        "On Mobile:\n",
        "\n",
        "![Working Flask Chat app.](../img/flask-chat-1.png?raw=1)\n",
        "\n",
        "On Browser:\n",
        "\n",
        "![Working Flask Chat app.](../img/flask-chat-2.png?raw=1)\n"
      ]
    },
    {
      "cell_type": "markdown",
      "metadata": {
        "id": "9DM8Fdea2rc5"
      },
      "source": [
        "\n",
        "## What you'll build\n",
        "* A fully working real-time multi user chat app.\n",
        "* Mobile and web friendly Progressive Web App (PWA).\n",
        "* Public URL to share with family/friends.\n",
        "* Hosted on Google Cloud for free.\n",
        "\n",
        "## What you'll learn\n",
        "* Dveloping a useful [Flask](http://flask.pocoo.org/) web app.\n",
        "* Using [WebSocket](https://en.wikipedia.org/wiki/WebSocket) with [Flask-SocketIO](https://flask-socketio.readthedocs.io/en/latest/) for bi-directional real-time communication.\n",
        "* How to create a public URL with [ngrok](https://ngrok.com/) to share your web app.\n",
        "* How to run a web server on Colab.\n",
        "\n",
        "## What you'll need\n",
        "* Gmail account to access [Google Colaboratory](https://colab.research.google.com/) for free.\n",
        "* A browser such as Chrome.\n",
        "* The sample notebook. Click on the Open in Colab button below to get started.\n",
        "\n",
        "<br/>\n",
        "<br/>\n",
        "\n",
        "<a href=\"https://colab.research.google.com/github/shanaka-desoysa/notes/blob/main/docs/flask/Flask_Chat_Colab.ipynb\" target=\"_blank\"><img src=\"https://colab.research.google.com/assets/colab-badge.svg\" alt=\"Open In Colab\"/></a>\n"
      ]
    },
    {
      "cell_type": "markdown",
      "metadata": {
        "id": "iJlNFW_hAcWI"
      },
      "source": [
        "## Python Packages\n",
        "Packages required to run the app. You'll use [`pip`](https://pypi.org/project/pip/) to install these packages."
      ]
    },
    {
      "cell_type": "code",
      "metadata": {
        "id": "jeCCFFs6gtvy",
        "colab": {
          "base_uri": "https://localhost:8080/",
          "height": 34
        },
        "outputId": "2cc1f85c-a71c-4f21-a701-009e6c49d238"
      },
      "source": [
        "%%writefile requirements.txt\n",
        "Flask==0.12.2\n",
        "flask-socketio\n",
        "eventlet==0.17.4\n",
        "gunicorn==18.0.0"
      ],
      "execution_count": null,
      "outputs": [
        {
          "output_type": "stream",
          "text": [
            "Overwriting requirements.txt\n"
          ],
          "name": "stdout"
        }
      ]
    },
    {
      "cell_type": "markdown",
      "metadata": {
        "id": "9Nx4PZMABMcq"
      },
      "source": [
        "## Flask App\n",
        "\n",
        "Here you are defining event handlers to receive WebSocket (`ws`) messages using the `socketio.on` decorator and it sends reply messages to the connected client using the `send()` and `emit()` functions.\n",
        "\n",
        "Also you are defining a simple `http` endpoint `/hello` for testing purpose."
      ]
    },
    {
      "cell_type": "code",
      "metadata": {
        "id": "XwGdfO_fq6kH",
        "colab": {
          "base_uri": "https://localhost:8080/",
          "height": 34
        },
        "outputId": "bffcfb7b-ca89-4652-f4bc-a06c2100361f"
      },
      "source": [
        "%%writefile main.py\n",
        "import os\n",
        "import logging\n",
        "\n",
        "from flask import Flask, render_template\n",
        "from flask_socketio import SocketIO\n",
        "\n",
        "secret = os.urandom(24).hex()\n",
        "\n",
        "app = Flask(__name__)\n",
        "app.logger.info(\"Starting...\")\n",
        "app.config['SECRET_KEY'] = secret\n",
        "app.logger.critical(\"secret: %s\" % secret)\n",
        "socketio = SocketIO(app)\n",
        "\n",
        "# render home page\n",
        "@app.route('/')\n",
        "def index():\n",
        "    return render_template('index.html')\n",
        "\n",
        "# Simple http endpoint\n",
        "@app.route('/hello')\n",
        "def hello():\n",
        "    return \"Hello World!\"\n",
        "\n",
        "# ws callback\n",
        "def message_received(methods=['GET', 'POST']):\n",
        "    app.logger.info('message was received!')\n",
        "\n",
        "# ws event handler\n",
        "@socketio.on('flask-chat-event')\n",
        "def handle_flask_chat_event(json, methods=['GET', 'POST']):\n",
        "    app.logger.info('received flask-chat-event: ' + str(json))\n",
        "    socketio.emit('flask-chat-response', json, callback=message_received)\n",
        "\n",
        "if __name__ == '__main__':\n",
        "    socketio.run(app, debug=True)"
      ],
      "execution_count": null,
      "outputs": [
        {
          "output_type": "stream",
          "text": [
            "Overwriting main.py\n"
          ],
          "name": "stdout"
        }
      ]
    },
    {
      "cell_type": "markdown",
      "metadata": {
        "id": "bqqv13PbIesu"
      },
      "source": [
        "## HTML Template\n",
        "Here you are defineing:\n",
        "\n",
        "1.   Web UI for the app.\n",
        "2.   JavaScript functions to establish `ws` connection, send and receive messages with `socket.io`.\n",
        "\n"
      ]
    },
    {
      "cell_type": "code",
      "metadata": {
        "id": "_jHdASpAh1i5"
      },
      "source": [
        "%mkdir templates -p"
      ],
      "execution_count": null,
      "outputs": []
    },
    {
      "cell_type": "code",
      "metadata": {
        "id": "NqCnHLj5x55v",
        "colab": {
          "base_uri": "https://localhost:8080/",
          "height": 34
        },
        "outputId": "acae9721-7c7b-442f-c506-bb0fa317b68a"
      },
      "source": [
        "%%writefile templates/index.html\n",
        "<!doctype html>\n",
        "<html lang=\"en\">\n",
        "\n",
        "<head>\n",
        "  <meta charset=\"utf-8\">\n",
        "  <meta http-equiv=\"X-UA-Compatible\" content=\"IE=edge\">\n",
        "  <meta name=\"description\" content=\"Learn how to create a chat app using Flask\">\n",
        "  <meta name=\"viewport\" content=\"width=device-width, initial-scale=1.0\">\n",
        "  <title>Flask Chat</title>\n",
        "\n",
        "  <!-- Disable tap highlight on IE -->\n",
        "  <meta name=\"msapplication-tap-highlight\" content=\"no\">\n",
        "\n",
        "  <!-- Web Application Manifest -->\n",
        "  <link rel=\"manifest\" href='data:application/manifest+json,{ \"name\": \"Flask Chat\", \"short_name\": \"Flask Chat\", \"display\": \"standalone\" }' />\n",
        "  \n",
        "  <!-- Add to homescreen for Chrome on Android -->\n",
        "  <meta name=\"mobile-web-app-capable\" content=\"yes\">\n",
        "  <meta name=\"application-name\" content=\"Flask Chat\">\n",
        "  <meta name=\"theme-color\" content=\"#303F9F\">\n",
        "\n",
        "  <!-- Add to homescreen for Safari on iOS -->\n",
        "  <meta name=\"apple-mobile-web-app-capable\" content=\"yes\">\n",
        "  <meta name=\"apple-mobile-web-app-status-bar-style\" content=\"black-translucent\">\n",
        "  <meta name=\"apple-mobile-web-app-title\" content=\"Flask Chat\">\n",
        "  <meta name=\"apple-mobile-web-app-status-bar-style\" content=\"#303F9F\">\n",
        "\n",
        "  <!-- Tile icon for Win8 -->\n",
        "  <meta name=\"msapplication-TileColor\" content=\"#3372DF\">\n",
        "  <meta name=\"msapplication-navbutton-color\" content=\"#303F9F\">\n",
        "  <script async src=\"https://www.googletagmanager.com/gtag/js?id=UA-135532366-1\"></script>\n",
        "  <script>function gtag(){dataLayer.push(arguments)}window.dataLayer=window.dataLayer||[],gtag(\"js\",new Date),gtag(\"config\",\"UA-135532366-1\");</script>\n",
        "\n",
        "  <!-- Material Design Lite -->\n",
        "  <link rel=\"stylesheet\" href=\"https://fonts.googleapis.com/icon?family=Material+Icons\">\n",
        "  <link rel=\"stylesheet\" href=\"https://code.getmdl.io/1.1.3/material.orange-indigo.min.css\">\n",
        "  <script defer src=\"https://code.getmdl.io/1.1.3/material.min.js\"></script>\n",
        "\n",
        "  <!-- App Styling -->\n",
        "  <link rel=\"stylesheet\"\n",
        "    href=\"https://fonts.googleapis.com/css?family=Roboto:regular,bold,italic,thin,light,bolditalic,black,medium&amp;lang=en\">\n",
        "  <style>\n",
        "    .message-container .spacing {\n",
        "      display: table-cell;\n",
        "      vertical-align: top;\n",
        "    }\n",
        "\n",
        "    .message-container .message {\n",
        "      display: table-cell;\n",
        "      width: calc(100% - 40px);\n",
        "      padding: 5px 0 5px 10px;\n",
        "    }\n",
        "\n",
        "    .message-container .name {\n",
        "      display: inline-block;\n",
        "      width: 100%;\n",
        "      padding-left: 40px;\n",
        "      color: #bbb;\n",
        "      font-style: italic;\n",
        "      font-size: 12px;\n",
        "      box-sizing: border-box;\n",
        "    }\n",
        "  </style>\n",
        "</head>\n",
        "\n",
        "<body>\n",
        "  <div class=\"demo-layout mdl-layout mdl-js-layout mdl-layout--fixed-header\">\n",
        "\n",
        "    <!-- Header section containing logo -->\n",
        "    <header class=\"mdl-layout__header mdl-color-text--white mdl-color--light-blue-700\">\n",
        "      <div class=\"mdl-cell mdl-cell--12-col mdl-cell--12-col-tablet mdl-grid\">\n",
        "        <div class=\"mdl-layout__header-row mdl-cell mdl-cell--12-col mdl-cell--12-col-tablet mdl-cell--12-col-desktop\">\n",
        "          <h3><i class=\"material-icons\">chat_bubble_outline</i> Flask Chat</h3>\n",
        "        </div>\n",
        "      </div>\n",
        "    </header>\n",
        "\n",
        "    <main class=\"mdl-layout__content mdl-color--grey-100\">\n",
        "      <div id=\"messages-card-container\" class=\"mdl-cell mdl-cell--12-col mdl-grid\">\n",
        "\n",
        "        <!-- Messages container -->\n",
        "        <div id=\"messages-card\"\n",
        "          class=\"mdl-card mdl-shadow--2dp mdl-cell mdl-cell--12-col mdl-cell--6-col-tablet mdl-cell--6-col-desktop\">\n",
        "          <div class=\"mdl-card__supporting-text mdl-color-text--grey-600\">\n",
        "            <div id=\"messages\">\n",
        "              <span id=\"message-filler\"></span>\n",
        "              <div class=\"message-container visible\">\n",
        "                <div class=\"spacing\">\n",
        "                </div>\n",
        "                <div class=\"message\">Welcome!</div>\n",
        "                <div class=\"name\">Shanaka DeSoysa</div>\n",
        "              </div>\n",
        "            </div>\n",
        "            <form id=\"message-form\" action=\"POST\">\n",
        "              <div class=\"mdl-textfield mdl-js-textfield mdl-textfield--floating-label\">\n",
        "                <input class=\"mdl-textfield__input\" type=\"text\" id=\"username\">\n",
        "                <label class=\"mdl-textfield__label\" for=\"username\">User...</label>\n",
        "              </div>\n",
        "              <div class=\"mdl-textfield mdl-js-textfield mdl-textfield--floating-label\">\n",
        "                <input class=\"mdl-textfield__input\" type=\"text\" id=\"message\">\n",
        "                <label class=\"mdl-textfield__label\" for=\"message\">Message...</label>\n",
        "              </div>\n",
        "              <button id=\"submit\" type=\"submit\"\n",
        "                class=\"mdl-button mdl-js-button mdl-button--raised mdl-js-ripple-effect\">\n",
        "                Send\n",
        "              </button>\n",
        "            </form>\n",
        "          </div>\n",
        "        </div>\n",
        "      </div>\n",
        "    </main>\n",
        "  </div>\n",
        "  <!-- jQuery (necessary for Bootstrap's JavaScript plugins) -->\n",
        "  <script src=\"https://ajax.googleapis.com/ajax/libs/jquery/1.12.4/jquery.min.js\"></script>\n",
        "  <script src=\"https://cdnjs.cloudflare.com/ajax/libs/socket.io/1.7.3/socket.io.min.js\"></script>\n",
        "  <script type=\"text/javascript\">\n",
        "    var socket = io.connect('https://' + document.domain + ':' + location.port);\n",
        "\n",
        "    socket.on('connect', function () {\n",
        "      socket.emit('flask-chat-event', {\n",
        "        data: 'User Connected'\n",
        "      })\n",
        "      var form = $('form').on('submit', function (e) {\n",
        "        e.preventDefault()\n",
        "        let user_name = $('#username').val()\n",
        "        let user_input = $('#message').val()\n",
        "        socket.emit('flask-chat-event', {\n",
        "          user_name: user_name,\n",
        "          message: user_input\n",
        "        })\n",
        "        $('#message').val('').focus()\n",
        "      })\n",
        "    })\n",
        "    socket.on('flask-chat-response', function (msg) {\n",
        "      console.log(msg)\n",
        "      if (typeof msg.user_name !== 'undefined') {\n",
        "        $('#messages').append('<div class=\"message-container visible\"><div class=\"spacing\"></div><div class=\"message\">' + msg.message + '</div><div class=\"name\">' + msg.user_name + '</div></div>')\n",
        "      }\n",
        "    })\n",
        "  </script>\n",
        "</body>\n",
        "\n",
        "</html>"
      ],
      "execution_count": null,
      "outputs": [
        {
          "output_type": "stream",
          "text": [
            "Overwriting templates/index.html\n"
          ],
          "name": "stdout"
        }
      ]
    },
    {
      "cell_type": "markdown",
      "metadata": {
        "id": "IXjAQDuYMcw0"
      },
      "source": [
        "## Installing Packages and Running Web Server"
      ]
    },
    {
      "cell_type": "code",
      "metadata": {
        "id": "Y2YctzyjOz6a"
      },
      "source": [
        "get_ipython().system_raw(\n",
        "    'pip3 install -r requirements.txt && python3 main.py > logs.txt 2>&1 &'\n",
        ")"
      ],
      "execution_count": null,
      "outputs": []
    },
    {
      "cell_type": "markdown",
      "metadata": {
        "id": "L0s75Rn3Mrqk"
      },
      "source": [
        "### Checking the Log File\n",
        "You can check the log file with this command."
      ]
    },
    {
      "cell_type": "code",
      "metadata": {
        "id": "lAwA3_u-TgFR",
        "colab": {
          "base_uri": "https://localhost:8080/",
          "height": 102
        },
        "outputId": "c62a1831-df0b-4619-f4c4-fe2476ae932f"
      },
      "source": [
        "!tail logs.txt"
      ],
      "execution_count": null,
      "outputs": [
        {
          "output_type": "stream",
          "text": [
            "[2019-06-29 18:04:09,804] CRITICAL in main: secret: 9aba1627141610d3ea12a10e7a54a08d4c595a7cb9496089\n",
            " * Restarting with stat\n",
            "[2019-06-29 18:04:10,159] CRITICAL in main: secret: 74c1b6b00c53dce5d804e82e823e623c61224d955158072f\n",
            " * Debugger is active!\n",
            " * Debugger PIN: 127-941-347\n"
          ],
          "name": "stdout"
        }
      ]
    },
    {
      "cell_type": "markdown",
      "metadata": {
        "id": "mkLQgDDETVun"
      },
      "source": [
        "### Verifying the Web Server is Running\n",
        "You can do a quick check if the server is up and running with `curl`."
      ]
    },
    {
      "cell_type": "code",
      "metadata": {
        "id": "oi8hwgZ1Okut",
        "colab": {
          "base_uri": "https://localhost:8080/",
          "height": 34
        },
        "outputId": "ac8e4a32-1386-4c0d-d134-64b5c1dd0c93"
      },
      "source": [
        "# Make sure it's running on local port\n",
        "PORT = 5000\n",
        "\n",
        "!curl http://localhost:{PORT}/hello"
      ],
      "execution_count": null,
      "outputs": [
        {
          "output_type": "stream",
          "text": [
            "Hello World!"
          ],
          "name": "stdout"
        }
      ]
    },
    {
      "cell_type": "markdown",
      "metadata": {
        "id": "cucMWoVsTuNH"
      },
      "source": [
        "## Getting a Shareable Public URL from ngrok\n",
        "Here you are installing `ngrok` and obtaining a shareable URL."
      ]
    },
    {
      "cell_type": "code",
      "metadata": {
        "id": "DcYf4g13LCtt"
      },
      "source": [
        "!wget --quiet https://bin.equinox.io/c/4VmDzA7iaHb/ngrok-stable-linux-amd64.zip -O ngrok-stable-linux-amd64.zip\n",
        "!unzip -q -f ngrok-stable-linux-amd64.zip"
      ],
      "execution_count": null,
      "outputs": []
    },
    {
      "cell_type": "markdown",
      "metadata": {
        "id": "3uWNB1RAUsp9"
      },
      "source": [
        "Running `ngrok`."
      ]
    },
    {
      "cell_type": "code",
      "metadata": {
        "id": "oYhzQ45oRQO-"
      },
      "source": [
        "get_ipython().system_raw(\n",
        "    './ngrok http {} &'\n",
        "    .format(PORT)\n",
        ")"
      ],
      "execution_count": null,
      "outputs": []
    },
    {
      "cell_type": "markdown",
      "metadata": {
        "id": "p3X9N4_oUy2U"
      },
      "source": [
        "### Public URL"
      ]
    },
    {
      "cell_type": "code",
      "metadata": {
        "id": "vXSUWyu_MRY2",
        "colab": {
          "base_uri": "https://localhost:8080/",
          "height": 34
        },
        "outputId": "85fc99e7-6645-44d9-925f-bed3184a97f9"
      },
      "source": [
        "public_url = !curl -s http://localhost:4040/api/tunnels | python3 -c \\\n",
        "    \"import sys, json; print(json.load(sys.stdin)['tunnels'][0]['public_url'])\"\n",
        "\n",
        "print(public_url[0])"
      ],
      "execution_count": null,
      "outputs": [
        {
          "output_type": "stream",
          "text": [
            "http://8ab37579.ngrok.io\n"
          ],
          "name": "stdout"
        }
      ]
    },
    {
      "cell_type": "markdown",
      "metadata": {
        "id": "UAODr9KWVD8p"
      },
      "source": [
        "### Verifying the Public URL is Accessible"
      ]
    },
    {
      "cell_type": "code",
      "metadata": {
        "id": "jrI5opNrVLma",
        "colab": {
          "base_uri": "https://localhost:8080/",
          "height": 34
        },
        "outputId": "08b10129-b7ab-494a-a2e2-64f5f3e8509a"
      },
      "source": [
        "!curl {public_url[0]}/hello"
      ],
      "execution_count": null,
      "outputs": [
        {
          "output_type": "stream",
          "text": [
            "Hello World!"
          ],
          "name": "stdout"
        }
      ]
    },
    {
      "cell_type": "markdown",
      "metadata": {
        "id": "Hmx5lVRRa2Hq"
      },
      "source": [
        "Congratulations! You have successfully built a chat application using Flask and WebSockets. You can share this URL with your friends and chat. You could also open multiple tabs in the browser to test it out. Don't forget to check it out on your mobile.\n",
        "\n",
        "The source-code for the article can be found here.\n",
        "\n",
        "\n",
        "<a href=\"https://colab.research.google.com/github/shanaka-desoysa/shanaka-desoysa.github.io/blob/source/content/flask/Flask_Chat_Colab.ipynb\" target=\"_parent\"><img src=\"https://colab.research.google.com/assets/colab-badge.svg\" alt=\"Open In Colab\" height=\"30\"/></a>\n"
      ]
    }
  ]
}