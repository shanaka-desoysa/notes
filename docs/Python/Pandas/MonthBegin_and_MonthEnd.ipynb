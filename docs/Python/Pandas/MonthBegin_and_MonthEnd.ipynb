{
  "nbformat": 4,
  "nbformat_minor": 0,
  "metadata": {
    "kernelspec": {
      "name": "python3",
      "display_name": "Python 3.8.2 64-bit",
      "metadata": {
        "interpreter": {
          "hash": "31f2aee4e71d21fbe5cf8b01ff0e069b9275f58929596ceb00d14d90e3e16cd6"
        }
      }
    },
    "language_info": {
      "codemirror_mode": {
        "name": "ipython",
        "version": 3
      },
      "file_extension": ".py",
      "mimetype": "text/x-python",
      "name": "python",
      "nbconvert_exporter": "python",
      "pygments_lexer": "ipython3",
      "version": "3.8.2-final"
    },
    "colab": {
      "name": "MonthEnd.ipynb",
      "provenance": [],
      "include_colab_link": true
    }
  },
  "cells": [
    {
      "cell_type": "markdown",
      "metadata": {
        "id": "view-in-github",
        "colab_type": "text"
      },
      "source": [
        "<a href=\"https://colab.research.google.com/github/shanaka-desoysa/short-notes/blob/main/docs/Python/Pandas/MonthBegin_and_MonthEnd.ipynb\" target=\"_blank\"><img src=\"https://colab.research.google.com/assets/colab-badge.svg\" alt=\"Open In Colab\"/></a>"
      ]
    },
    {
      "cell_type": "markdown",
      "metadata": {
        "id": "elegISPwsq3f"
      },
      "source": [
        "# Pandas TimeSeries MonthBegin and MonthEnd"
      ]
    },
    {
      "cell_type": "code",
      "metadata": {
        "id": "KJsADfqKsq3k"
      },
      "source": [
        "import pandas as pd\n",
        "from pandas.tseries.offsets import MonthBegin, MonthEnd"
      ],
      "execution_count": 1,
      "outputs": []
    },
    {
      "cell_type": "markdown",
      "metadata": {
        "id": "U4whtd0hv0GO"
      },
      "source": [
        "## MonthEnd\n",
        "Helpful when figuring out whether month ends on 28th, 29th, 30th, 31st."
      ]
    },
    {
      "cell_type": "code",
      "metadata": {
        "id": "FW4nYYcGss8_",
        "outputId": "bbf6940b-9d64-4e8d-b559-90de54056f97",
        "colab": {
          "base_uri": "https://localhost:8080/"
        }
      },
      "source": [
        "todays_date = '2021-02-07'\n",
        "month_end_date = pd.to_datetime(todays_date) + MonthEnd(1)\n",
        "print(month_end_date)"
      ],
      "execution_count": 12,
      "outputs": [
        {
          "output_type": "stream",
          "text": [
            "2021-02-28 00:00:00\n"
          ],
          "name": "stdout"
        }
      ]
    },
    {
      "cell_type": "markdown",
      "metadata": {
        "id": "coJ0K62owR_s"
      },
      "source": [
        "## MonthBegin\n",
        "Helpful when figuring out when current/previous/next MonthBegin."
      ]
    },
    {
      "cell_type": "code",
      "metadata": {
        "id": "IAUFvT42sq3l",
        "outputId": "dc5e1ad7-3482-44c7-8c03-dc57b33d705f",
        "colab": {
          "base_uri": "https://localhost:8080/"
        }
      },
      "source": [
        "month_start_date = pd.to_datetime(todays_date) + MonthBegin(-1)\n",
        "print(month_start_date)"
      ],
      "execution_count": 16,
      "outputs": [
        {
          "output_type": "stream",
          "text": [
            "2021-02-01 00:00:00\n"
          ],
          "name": "stdout"
        }
      ]
    },
    {
      "cell_type": "code",
      "metadata": {
        "id": "LFurPojHwl9L",
        "outputId": "60eda522-f658-40f8-e985-6a586dc9b3c5",
        "colab": {
          "base_uri": "https://localhost:8080/"
        }
      },
      "source": [
        "next_month_start_date = pd.to_datetime(todays_date) + MonthBegin(1)\n",
        "print(next_month_start_date)"
      ],
      "execution_count": 17,
      "outputs": [
        {
          "output_type": "stream",
          "text": [
            "2021-03-01 00:00:00\n"
          ],
          "name": "stdout"
        }
      ]
    }
  ]
}