{
  "cells": [
    {
      "cell_type": "markdown",
      "metadata": {
        "id": "view-in-github",
        "colab_type": "text"
      },
      "source": [
        "<a href=\"https://colab.research.google.com/github/shanaka-desoysa/notes/blob/main/docs/Python/Jupyter/Running_JavaScript_in_Jupyter_Notebook.ipynb\" target=\"_parent\"><img src=\"https://colab.research.google.com/assets/colab-badge.svg\" alt=\"Open In Colab\"/></a>"
      ]
    },
    {
      "cell_type": "markdown",
      "id": "0a0cb89b",
      "metadata": {
        "id": "0a0cb89b"
      },
      "source": [
        "# Running JavaScript in Jupyter Notebook"
      ]
    },
    {
      "cell_type": "code",
      "execution_count": null,
      "id": "2c8eba31",
      "metadata": {
        "id": "2c8eba31"
      },
      "outputs": [],
      "source": [
        "import random\n",
        "from IPython.display import display, Javascript, HTML, clear_output\n",
        "\n",
        "unique_id = str(random.randint(100000, 999999))\n",
        "\n",
        "display(Javascript(\n",
        "    '''\n",
        "    var id = '%(unique_id)s';\n",
        "    // Make a new global function with a unique name, to prevent collisions with past\n",
        "    // executions of this cell (since JS state is reused).\n",
        "    window['render_' + id] = function() {\n",
        "        // Put data fetching function here.\n",
        "        // $('#' + id).text('Hello at ' + new Date());\n",
        "\n",
        "        $.getJSON('https://api.db-ip.com/v2/free/self', function(data) {\n",
        "          // console.log(JSON.stringify(data, null, 2));\n",
        "          $('#' + id).text(JSON.stringify(data, null, 2));\n",
        "        });\n",
        "\n",
        "    }\n",
        "    // See if the `HTML` block executed first, and if so trigger the render.\n",
        "    if ($('#' + id).length) {\n",
        "        window['render_' + id]();\n",
        "    }\n",
        "    ''' % dict(unique_id=unique_id)\n",
        "    # Use % instead of .format since the latter requires {{ and }} escaping.\n",
        "))\n",
        "\n",
        "clear_output()\n",
        "\n",
        "display(HTML(\n",
        "    '''\n",
        "    <div id=\"%(unique_id)s\"></div>\n",
        "    <!-- When this script block executes, the <div> is ready for data. -->\n",
        "    <script type=\"text/javascript\">\n",
        "        var id = '%(unique_id)s';\n",
        "        // See if the `Javascript` block executed first, and if so trigger the render.\n",
        "        if (window['render_' + id]) {\n",
        "            window['render_' + id]();\n",
        "        }\n",
        "    </script>\n",
        "    ''' % {'unique_id': unique_id}\n",
        "))"
      ]
    }
  ],
  "metadata": {
    "kernelspec": {
      "display_name": "Python 3 (ipykernel)",
      "language": "python",
      "name": "python3"
    },
    "language_info": {
      "codemirror_mode": {
        "name": "ipython",
        "version": 3
      },
      "file_extension": ".py",
      "mimetype": "text/x-python",
      "name": "python",
      "nbconvert_exporter": "python",
      "pygments_lexer": "ipython3",
      "version": "3.8.2"
    },
    "toc": {
      "base_numbering": 1,
      "nav_menu": {},
      "number_sections": true,
      "sideBar": true,
      "skip_h1_title": false,
      "title_cell": "Table of Contents",
      "title_sidebar": "Contents",
      "toc_cell": false,
      "toc_position": {},
      "toc_section_display": true,
      "toc_window_display": false
    },
    "colab": {
      "name": "Running_JavaScript_in_Jupyter_Notebook.ipynb",
      "provenance": [],
      "include_colab_link": true
    }
  },
  "nbformat": 4,
  "nbformat_minor": 5
}