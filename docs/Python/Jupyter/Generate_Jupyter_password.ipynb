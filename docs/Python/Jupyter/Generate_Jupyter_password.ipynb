{
  "cells": [
    {
      "cell_type": "markdown",
      "metadata": {
        "id": "view-in-github",
        "colab_type": "text"
      },
      "source": [
        "<a href=\"https://colab.research.google.com/github/shanaka-desoysa/notes/blob/main/docs/Python/Jupyter/Generate_Jupyter_password.ipynb\" target=\"_parent\"><img src=\"https://colab.research.google.com/assets/colab-badge.svg\" alt=\"Open In Colab\"/></a>"
      ]
    },
    {
      "cell_type": "markdown",
      "id": "388c40df",
      "metadata": {
        "id": "388c40df"
      },
      "source": [
        "# Generate Jupyter Password"
      ]
    },
    {
      "cell_type": "code",
      "execution_count": null,
      "id": "41c071f6",
      "metadata": {
        "scrolled": true,
        "id": "41c071f6",
        "outputId": "8b3db217-4c38-4140-c17c-76d2fc14c35f"
      },
      "outputs": [
        {
          "name": "stdout",
          "output_type": "stream",
          "text": [
            "Enter password: ········\n",
            "Verify password: ········\n"
          ]
        },
        {
          "data": {
            "text/plain": [
              "'argon2:$argon2id$v=19$m=10240,t=10,p=8$WRlMB2K+RRj7Q8kFN3CvVQ$WGpUDx2lT97F5S4Z1wuifQ'"
            ]
          },
          "execution_count": 1,
          "metadata": {},
          "output_type": "execute_result"
        }
      ],
      "source": [
        "from notebook.auth import passwd\n",
        "passwd()"
      ]
    },
    {
      "cell_type": "markdown",
      "id": "323f68d3",
      "metadata": {
        "id": "323f68d3"
      },
      "source": [
        "## Use Password in Jupyter config\n",
        "\n",
        "```python\n",
        "{\n",
        "  \"NotebookApp\": {\n",
        "    \"password\": \"argon2:$argon2id$v=19$m=10240,t=10,p=8$WRlMB2K+RRj7Q8kFN3CvVQ$WGpUDx2lT97F5S4Z1wuifQ\",\n",
        "    \"ip\": \"*\",\n",
        "    \"port\": 8888,\n",
        "    \"notebook_dir\": \"/home/jovyan/work\"\n",
        "  }\n",
        "}\n",
        "```"
      ]
    }
  ],
  "metadata": {
    "kernelspec": {
      "display_name": "Python 3",
      "language": "python",
      "name": "python3"
    },
    "language_info": {
      "codemirror_mode": {
        "name": "ipython",
        "version": 3
      },
      "file_extension": ".py",
      "mimetype": "text/x-python",
      "name": "python",
      "nbconvert_exporter": "python",
      "pygments_lexer": "ipython3",
      "version": "3.8.8"
    },
    "colab": {
      "name": "Generate_Jupyter_password.ipynb",
      "provenance": [],
      "include_colab_link": true
    }
  },
  "nbformat": 4,
  "nbformat_minor": 5
}