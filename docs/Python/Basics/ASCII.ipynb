{
  "cells": [
    {
      "cell_type": "markdown",
      "metadata": {
        "id": "view-in-github",
        "colab_type": "text"
      },
      "source": [
        "<a href=\"https://colab.research.google.com/github/shanaka-desoysa/notes/blob/main/docs/Python/Basics/ASCII.ipynb\" target=\"_parent\"><img src=\"https://colab.research.google.com/assets/colab-badge.svg\" alt=\"Open In Colab\"/></a>"
      ]
    },
    {
      "cell_type": "markdown",
      "metadata": {
        "id": "dWMFns6ce6pa"
      },
      "source": [
        "# Python ASCII Encoding"
      ]
    },
    {
      "cell_type": "markdown",
      "metadata": {
        "id": "j0bBnYSfe6pd"
      },
      "source": [
        "[ASCII](https://en.wikipedia.org/wiki/ASCII) abbreviated from *American Standard Code for Information Interchange*, is a character encoding standard for electronic communication. ASCII codes represent text in computers, telecommunications equipment, and other devices."
      ]
    },
    {
      "cell_type": "markdown",
      "metadata": {
        "id": "S4ezZgYie6pe"
      },
      "source": [
        "## ASCII Value of a Character"
      ]
    },
    {
      "cell_type": "markdown",
      "metadata": {
        "id": "ZINuE8P_e6pf"
      },
      "source": [
        "Print ASCII value of character 'a'."
      ]
    },
    {
      "cell_type": "code",
      "execution_count": null,
      "metadata": {
        "id": "JFHiD5iVe6pf",
        "outputId": "1256a898-77b1-455b-a717-be878783831b"
      },
      "outputs": [
        {
          "name": "stdout",
          "output_type": "stream",
          "text": [
            "97\n"
          ]
        }
      ],
      "source": [
        "print(ord('a'))"
      ]
    },
    {
      "cell_type": "markdown",
      "metadata": {
        "id": "m-DulRx1e6ph"
      },
      "source": [
        "Print ASCII value of character 'A'."
      ]
    },
    {
      "cell_type": "code",
      "execution_count": null,
      "metadata": {
        "id": "A1gD2Fl1e6ph",
        "outputId": "d731fa25-0374-4d86-ab5f-e7fe2c55c19c"
      },
      "outputs": [
        {
          "name": "stdout",
          "output_type": "stream",
          "text": [
            "65\n"
          ]
        }
      ],
      "source": [
        "print(ord('A'))"
      ]
    },
    {
      "cell_type": "markdown",
      "metadata": {
        "id": "MM6oWcNAe6pi"
      },
      "source": [
        "## Character from ASCII Value"
      ]
    },
    {
      "cell_type": "markdown",
      "metadata": {
        "id": "7J4KOLu4e6pj"
      },
      "source": [
        "Print character represented by ACII value 97."
      ]
    },
    {
      "cell_type": "code",
      "execution_count": null,
      "metadata": {
        "id": "sYoUc79le6pj",
        "outputId": "ebe705a0-f5a3-4885-d0b1-f1170c9e4220"
      },
      "outputs": [
        {
          "name": "stdout",
          "output_type": "stream",
          "text": [
            "a\n"
          ]
        }
      ],
      "source": [
        "print(chr(97))"
      ]
    },
    {
      "cell_type": "markdown",
      "metadata": {
        "id": "nlmrS0fle6pk"
      },
      "source": [
        "Print character represented by ACII value 65."
      ]
    },
    {
      "cell_type": "code",
      "execution_count": null,
      "metadata": {
        "id": "9gKdziMKe6pk",
        "outputId": "219bfb16-7b1e-413c-ca5f-1d6d6b6030b3"
      },
      "outputs": [
        {
          "name": "stdout",
          "output_type": "stream",
          "text": [
            "A\n"
          ]
        }
      ],
      "source": [
        "print(chr(65))"
      ]
    },
    {
      "cell_type": "markdown",
      "metadata": {
        "id": "9SntgUGqe6pl"
      },
      "source": [
        "<a href=\"https://colab.research.google.com/github/shanaka-desoysa/notes/blob/main/content/python/basics/ASCII.ipynb\" target=\"_blank\"><img src=\"https://colab.research.google.com/assets/colab-badge.svg\" alt=\"Open In Colab\"/></a>"
      ]
    }
  ],
  "metadata": {
    "kernelspec": {
      "display_name": "Python 3",
      "language": "python",
      "name": "python3"
    },
    "language_info": {
      "codemirror_mode": {
        "name": "ipython",
        "version": 3
      },
      "file_extension": ".py",
      "mimetype": "text/x-python",
      "name": "python",
      "nbconvert_exporter": "python",
      "pygments_lexer": "ipython3",
      "version": "3.7.6"
    },
    "colab": {
      "provenance": [],
      "include_colab_link": true
    }
  },
  "nbformat": 4,
  "nbformat_minor": 0
}