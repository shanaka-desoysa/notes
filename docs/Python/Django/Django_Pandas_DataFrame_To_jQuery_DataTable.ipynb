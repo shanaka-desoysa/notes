{
  "nbformat": 4,
  "nbformat_minor": 0,
  "metadata": {
    "colab": {
      "name": "Django_Pandas_DataFrame_To_jQuery_DataTable.ipynb",
      "provenance": [],
      "collapsed_sections": [],
      "authorship_tag": "ABX9TyNpaTxc1VNt4xAJlwBrQpcr",
      "include_colab_link": true
    },
    "kernelspec": {
      "name": "python3",
      "display_name": "Python 3"
    },
    "language_info": {
      "name": "python"
    }
  },
  "cells": [
    {
      "cell_type": "markdown",
      "metadata": {
        "id": "view-in-github",
        "colab_type": "text"
      },
      "source": [
        "<a href=\"https://colab.research.google.com/github/shanaka-desoysa/notes/blob/main/docs/Python/Django/Django_Pandas_DataFrame_To_jQuery_DataTable.ipynb\" target=\"_parent\"><img src=\"https://colab.research.google.com/assets/colab-badge.svg\" alt=\"Open In Colab\"/></a>"
      ]
    },
    {
      "cell_type": "markdown",
      "source": [
        "# Django Pandas DataFrame to jQuery DataTable\n",
        "\n",
        "DataTables (https://datatables.net/) is a cool jQuery Javacript plugin to show advanced tables, an easy way."
      ],
      "metadata": {
        "id": "q2FVlZ5yEmlS"
      }
    },
    {
      "cell_type": "markdown",
      "source": [
        "## Define the View"
      ],
      "metadata": {
        "id": "XJwn3Z2dFR9t"
      }
    },
    {
      "cell_type": "markdown",
      "source": [
        "```python\n",
        "import pandas as pd\n",
        "import numpy as np\n",
        "import requests\n",
        "from django.shortcuts import render\n",
        "\n",
        "def datatable_view(request):\n",
        "    dates = pd.date_range('2022-01-01', '2022-01-10')\n",
        "    df = pd.DataFrame({\n",
        "        'date': dates,\n",
        "        'sales': np.round(np.random.rand(len(dates))*1000)\n",
        "    })\n",
        "    # table classes, if needed (ex: Bootstrap)\n",
        "    # classes=[\"table-bordered\", \"table-striped\", \"table-hover\"]\n",
        "    table_data = df.to_html(table_id=\"table_example\")\n",
        "    context = {'table_data': table_data}\n",
        "    return render(request, \"app/datatable.html\", context)\n",
        "\n",
        "```"
      ],
      "metadata": {
        "id": "sRyar0EzNvo_"
      }
    },
    {
      "cell_type": "markdown",
      "source": [
        "## Define the Template"
      ],
      "metadata": {
        "id": "mQ1wGvKgLNtx"
      }
    },
    {
      "cell_type": "markdown",
      "source": [
        "\n",
        "```html\n",
        "<!DOCTYPE html>\n",
        "<html lang=\"en\">\n",
        "\n",
        "<head>\n",
        "    <meta charset=\"utf-8\">\n",
        "    <meta http-equiv=\"X-UA-Compatible\" content=\"IE=edge\">\n",
        "    <meta name=\"viewport\" content=\"width=device-width, initial-scale=1, shrink-to-fit=no\">\n",
        "\n",
        "    <!-- datatables CSS -->\n",
        "    <link href=\"https://cdn.datatables.net/1.11.5/css/jquery.dataTables.min.css\" rel=\"stylesheet\" type=\"text/css\">\n",
        "</head>\n",
        "\n",
        "<body id=\"page-top\">\n",
        "    <!-- DataTable content -->\n",
        "    <div class=\"card-body\">\n",
        "        {{ table_data | safe }}\n",
        "    </div>\n",
        "\n",
        "    <!-- datatables JS -->\n",
        "    <script type=\"text/javascript\"src=\"https://cdn.datatables.net/1.11.5/js/jquery.dataTables.min.js\"></script>\n",
        "    <script type=\"text/javascript\"src=\"https://cdn.datatables.net/1.11.5/js/dataTables.bootstrap4.min.js\"></script>\n",
        "    <script>\n",
        "        {% comment %} Initialize DataTable {% endcomment %}\n",
        "        $(document).ready(function() {\n",
        "            $('#table_example').DataTable();\n",
        "        } );\n",
        "    </script>\n",
        "</body>\n",
        "\n",
        "</html>\n",
        "```\n",
        "\n"
      ],
      "metadata": {
        "id": "rxL3ZtmmNhdZ"
      }
    }
  ]
}