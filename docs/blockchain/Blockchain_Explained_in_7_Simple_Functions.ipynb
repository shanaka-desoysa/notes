{
  "nbformat": 4,
  "nbformat_minor": 0,
  "metadata": {
    "colab": {
      "name": "Blockchain Explained in 7 Simple Functions.ipynb",
      "version": "0.3.2",
      "provenance": [],
      "collapsed_sections": [],
      "include_colab_link": true
    },
    "kernelspec": {
      "name": "python2",
      "display_name": "Python 2"
    }
  },
  "cells": [
    {
      "metadata": {
        "id": "oGttrdcndLkh",
        "colab_type": "text"
      },
      "cell_type": "markdown",
      "source": [
        "---\n",
        "# Blockchain Explained in 7 Simple Functions\n",
        "\n",
        "---\n",
        "Practical hands-on guide to implement your own blockchain with 7 simple Python functions."
      ]
    },
    {
      "metadata": {
        "id": "opeq0gCMdwci",
        "colab_type": "text"
      },
      "cell_type": "markdown",
      "source": [
        "## Hashing Function\n",
        "\n",
        "At the heart of the blockchain is the hashing function. Without encryption, the blockchain will be easily manipulable and transactions will be able to be fraudulently inserted. Here we're using a simple MD5 hashing algorithm. If you're interested in what's actually being used in bitcoin, read [here](https://en.bitcoin.it/wiki/Block_hashing_algorithm)."
      ]
    },
    {
      "metadata": {
        "id": "tgvaLbWndIK-",
        "colab_type": "code",
        "colab": {}
      },
      "cell_type": "code",
      "source": [
        "import hashlib\n",
        "import json\n",
        "\n",
        "def hash_function(k):\n",
        "    \"\"\"Hashes our transaction.\"\"\"\n",
        "    if type(k) is not str:\n",
        "        k = json.dumps(k, sort_keys=True)\n",
        "\n",
        "    return hashlib.sha256(k).hexdigest()"
      ],
      "execution_count": 0,
      "outputs": []
    },
    {
      "metadata": {
        "id": "qJQxw2QCd3Om",
        "colab_type": "code",
        "outputId": "22dd2672-d4f0-4f31-d687-2f611b4f180b",
        "colab": {
          "base_uri": "https://localhost:8080/",
          "height": 34
        }
      },
      "cell_type": "code",
      "source": [
        "hash_function('www.geni.ai')"
      ],
      "execution_count": 2,
      "outputs": [
        {
          "output_type": "execute_result",
          "data": {
            "text/plain": [
              "'b26fe188c8c174c752aebea4e4fc42afe2b2e9ce6c6c94c5351bdaf76e8437e7'"
            ]
          },
          "metadata": {
            "tags": []
          },
          "execution_count": 2
        }
      ]
    },
    {
      "metadata": {
        "id": "N0iOe5o0fG8F",
        "colab_type": "text"
      },
      "cell_type": "markdown",
      "source": [
        "## State Management\n",
        "\n",
        "The ‘state’ is the record of who owns what. For example, *[Geni AI](https://www.geni.ai)* have 100 coins and give 5 to *John Smith*, then the state will be the value of the dictionary below.\n",
        "\n",
        "`{'transaction': {'Geni AI': 95, 'John Smith': 5}}`"
      ]
    },
    {
      "metadata": {
        "id": "jxOFyyrid8cW",
        "colab_type": "code",
        "colab": {}
      },
      "cell_type": "code",
      "source": [
        "def update_state(transaction, state):\n",
        "    state = state.copy()\n",
        "\n",
        "    for key in transaction:\n",
        "        if key in state.keys():\n",
        "            state[key] += transaction[key]\n",
        "        else:\n",
        "            state[key] = transaction[key]\n",
        "\n",
        "    return state"
      ],
      "execution_count": 0,
      "outputs": []
    },
    {
      "metadata": {
        "id": "MrdF67M-gSi7",
        "colab_type": "text"
      },
      "cell_type": "markdown",
      "source": [
        "## Transaction Validation\n",
        "\n",
        "The important thing to note is that overdrafts cannot exist. If there are only 10 coins in existence, then I cannot give 11 coins to someone. The below function verifies that the transaction we attempt to make is indeed valid. Also, a transaction must balance. I cannot give 5 coins and have the recipient receive 4 coins, since that would allow the destruction and creation of coins."
      ]
    },
    {
      "metadata": {
        "id": "7opymGUZgWM8",
        "colab_type": "code",
        "colab": {}
      },
      "cell_type": "code",
      "source": [
        "def valid_transaction(transaction, state):\n",
        "    \"\"\"A valid transaction must sum to 0.\"\"\"\n",
        "    if sum(transaction.values()) is not 0:\n",
        "        return False\n",
        "\n",
        "    for key in transaction.keys():\n",
        "        if key in state.keys():\n",
        "            account_balance = state[key]\n",
        "        else:\n",
        "            account_balance = 0\n",
        "\n",
        "        if account_balance + transaction[key] < 0:\n",
        "            return False\n",
        "\n",
        "    return True"
      ],
      "execution_count": 0,
      "outputs": []
    },
    {
      "metadata": {
        "id": "6Fc1DqCzj5Wp",
        "colab_type": "text"
      },
      "cell_type": "markdown",
      "source": [
        "## Make Block\n",
        "Now, we can make our block. The information from the previous block is read, and used to link it to the new block. This, too, is central to the idea of blockchain. Seemingly valid transactions can be attempted to fraudulently be inserted into the blockchain, but decrypting all the previous blocks is computationally (nearly) impossible, which preserves the integrity of the blockchain."
      ]
    },
    {
      "metadata": {
        "id": "61HVjbCOfIlU",
        "colab_type": "code",
        "colab": {}
      },
      "cell_type": "code",
      "source": [
        "def make_block(transactions, chain):\n",
        "    \"\"\"Make a block to go into the chain.\"\"\"\n",
        "    parent_hash = chain[-1]['hash']\n",
        "    block_number = chain[-1]['contents']['block_number'] + 1\n",
        "\n",
        "    block_contents = {\n",
        "        'block_number': block_number,\n",
        "        'parent_hash': parent_hash,\n",
        "        'transaction_count': block_number + 1,\n",
        "        'transaction': transactions\n",
        "    }\n",
        "\n",
        "    return {'hash': hash_function(block_contents), 'contents': block_contents}"
      ],
      "execution_count": 0,
      "outputs": []
    },
    {
      "metadata": {
        "id": "6djjZTLPkN6J",
        "colab_type": "text"
      },
      "cell_type": "markdown",
      "source": [
        "## Check Block Hash\n",
        "Below is a small helper function to check the hash of the previous block:"
      ]
    },
    {
      "metadata": {
        "id": "Gb5HgOiqkCWp",
        "colab_type": "code",
        "colab": {}
      },
      "cell_type": "code",
      "source": [
        "def check_block_hash(block):\n",
        "    expected_hash = hash_function(block['contents'])\n",
        "\n",
        "    if block['hash'] is not expected_hash:\n",
        "        raise\n",
        "\n",
        "    return"
      ],
      "execution_count": 0,
      "outputs": []
    },
    {
      "metadata": {
        "id": "6cNZo0CSkaTy",
        "colab_type": "text"
      },
      "cell_type": "markdown",
      "source": [
        "## Block Validity\n",
        "Once we have assembled everything together, its time to create our block. We will now update the blockchain."
      ]
    },
    {
      "metadata": {
        "id": "M_0ozxGrkcu5",
        "colab_type": "code",
        "colab": {}
      },
      "cell_type": "code",
      "source": [
        "def check_block_validity(block, parent, state):\n",
        "    parent_number = parent['contents']['block_number']\n",
        "    parent_hash = parent['hash']\n",
        "    block_number = block['contents']['block_number']\n",
        "\n",
        "    for transaction in block['contents']['transaction']:\n",
        "        if valid_transaction(transaction, state):\n",
        "            state = update_state(transaction, state)\n",
        "        else:\n",
        "            raise\n",
        "\n",
        "    check_block_hash(block)  # Check hash integrity\n",
        "\n",
        "    if block_number is not parent_number + 1:\n",
        "        raise\n",
        "\n",
        "    if block['contents']['parent_hash'] is not parent_hash:\n",
        "        raise"
      ],
      "execution_count": 0,
      "outputs": []
    },
    {
      "metadata": {
        "id": "DrlYcPvMk1bq",
        "colab_type": "text"
      },
      "cell_type": "markdown",
      "source": [
        "## Check Blockchain\n",
        "Before we are finished, the chain must be verified:"
      ]
    },
    {
      "metadata": {
        "id": "InZzGnCCk4Cx",
        "colab_type": "code",
        "colab": {}
      },
      "cell_type": "code",
      "source": [
        "def check_chain(chain):\n",
        "    \"\"\"Check the chain is valid.\"\"\"\n",
        "    if type(chain) is str:\n",
        "        try:\n",
        "            chain = json.loads(chain)\n",
        "            assert (type(chain) == list)\n",
        "        except ValueError:\n",
        "            # String passed in was not valid JSON\n",
        "            return False\n",
        "    elif type(chain) is not list:\n",
        "        return False\n",
        "\n",
        "    state = {}\n",
        "\n",
        "    for transaction in chain[0]['contents']['transaction']:\n",
        "        state = update_state(transaction, state)\n",
        "\n",
        "    check_block_hash(chain[0])\n",
        "    parent = chain[0]\n",
        "\n",
        "    for block in chain[1:]:\n",
        "        state = check_block_validity(block, parent, state)\n",
        "        parent = block\n",
        "\n",
        "    return state"
      ],
      "execution_count": 0,
      "outputs": []
    },
    {
      "metadata": {
        "id": "95kvf0uilMzi",
        "colab_type": "text"
      },
      "cell_type": "markdown",
      "source": [
        "## Add transaction\n",
        "Finally, need a transaction function, which hangs all of the above together:"
      ]
    },
    {
      "metadata": {
        "id": "649R2D71lPZD",
        "colab_type": "code",
        "colab": {}
      },
      "cell_type": "code",
      "source": [
        "def add_transaction_to_chain(transaction, state, chain):\n",
        "    if valid_transaction(transaction, state):\n",
        "        state = update_state(transaction, state)\n",
        "    else:\n",
        "        raise Exception('Invalid transaction.')\n",
        "\n",
        "    my_block = make_block(state, chain)\n",
        "    chain.append(my_block)\n",
        "\n",
        "    for transaction in chain:\n",
        "        check_chain(transaction)\n",
        "\n",
        "    return state, chain"
      ],
      "execution_count": 0,
      "outputs": []
    },
    {
      "metadata": {
        "id": "a8kFnjCZlWsU",
        "colab_type": "text"
      },
      "cell_type": "markdown",
      "source": [
        "## Example\n",
        "So, now we have our 7 functions. How do we interact with it? Well, first we need to start our chain with a Genesis Block. This is the inception of our new coin (or stock inventory, etc). \n",
        "\n",
        "For the purposes of this article, I will say that I, Tom, will start off with 10 coins.\n",
        "Let's say we start off with 100 coins for *[Geni AI](https://www.geni.ai)*."
      ]
    },
    {
      "metadata": {
        "id": "e9ZAM2VolYjL",
        "colab_type": "code",
        "colab": {}
      },
      "cell_type": "code",
      "source": [
        "genesis_block = {\n",
        "    'hash': hash_function({\n",
        "        'block_number': 0,\n",
        "        'parent_hash': None,\n",
        "        'transaction_count': 1,\n",
        "        'transaction': [{'Geni AI': 100}]\n",
        "    }),\n",
        "    'contents': {\n",
        "        'block_number': 0,\n",
        "        'parent_hash': None,\n",
        "        'transaction_count': 1,\n",
        "        'transaction': [{'Geni AI': 100}]\n",
        "    },\n",
        "}\n",
        "\n",
        "block_chain = [genesis_block]\n",
        "chain_state = {'Geni AI': 100}"
      ],
      "execution_count": 0,
      "outputs": []
    },
    {
      "metadata": {
        "id": "N_jmdHKwmAOw",
        "colab_type": "text"
      },
      "cell_type": "markdown",
      "source": [
        "Now, look what happens when *[Geni AI](https://www.geni.ai)* give some coins to user *John Smith*:"
      ]
    },
    {
      "metadata": {
        "id": "d7LiP41JkxFa",
        "colab_type": "code",
        "colab": {}
      },
      "cell_type": "code",
      "source": [
        "chain_state, block_chain = add_transaction_to_chain(transaction={'Geni AI': -5, 'John Smith': 5}, state=chain_state, chain=block_chain)"
      ],
      "execution_count": 0,
      "outputs": []
    },
    {
      "metadata": {
        "id": "AdTZO6sDfIn8",
        "colab_type": "code",
        "outputId": "4e6edd29-2d0b-4872-9103-9218e9ab5fdb",
        "colab": {
          "base_uri": "https://localhost:8080/",
          "height": 34
        }
      },
      "cell_type": "code",
      "source": [
        "chain_state"
      ],
      "execution_count": 12,
      "outputs": [
        {
          "output_type": "execute_result",
          "data": {
            "text/plain": [
              "{'John Smith': 5, 'myENDVR': 95}"
            ]
          },
          "metadata": {
            "tags": []
          },
          "execution_count": 12
        }
      ]
    },
    {
      "metadata": {
        "id": "7ZKyDtHJfIqU",
        "colab_type": "code",
        "outputId": "3fc32422-3424-404a-c7ae-cb1c7f46c87a",
        "colab": {
          "base_uri": "https://localhost:8080/",
          "height": 187
        }
      },
      "cell_type": "code",
      "source": [
        "block_chain"
      ],
      "execution_count": 13,
      "outputs": [
        {
          "output_type": "execute_result",
          "data": {
            "text/plain": [
              "[{'contents': {'block_number': 0,\n",
              "   'parent_hash': None,\n",
              "   'transaction': [{'myENDVR': 100}],\n",
              "   'transaction_count': 1},\n",
              "  'hash': '043e4a9e63d1ad8dac1c8797bc61f890c144ca52ffa4f84f6ef91da848e70044'},\n",
              " {'contents': {'block_number': 1,\n",
              "   'parent_hash': '043e4a9e63d1ad8dac1c8797bc61f890c144ca52ffa4f84f6ef91da848e70044',\n",
              "   'transaction': {'John Smith': 5, 'myENDVR': 95},\n",
              "   'transaction_count': 2},\n",
              "  'hash': '4609f57859df784026c25fc42a9d0e40ebaa2a5b0e7c03b45c2c3d11da01829e'}]"
            ]
          },
          "metadata": {
            "tags": []
          },
          "execution_count": 13
        }
      ]
    },
    {
      "metadata": {
        "id": "rZlzSjOjs2nC",
        "colab_type": "text"
      },
      "cell_type": "markdown",
      "source": [
        "Our first new transaction has been created and inserted to the top of the stack. "
      ]
    },
    {
      "metadata": {
        "id": "lngMuWJyucdE",
        "colab_type": "text"
      },
      "cell_type": "markdown",
      "source": [
        "## References\n",
        "https://towardsdatascience.com/blockchain-explained-in-7-python-functions-c49c84f34ba5\n",
        "\n"
      ]
    }
  ]
}