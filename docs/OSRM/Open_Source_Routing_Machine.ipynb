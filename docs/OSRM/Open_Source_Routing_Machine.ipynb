{
  "nbformat": 4,
  "nbformat_minor": 0,
  "metadata": {
    "colab": {
      "name": "Open_Source_Routing_Machine.ipynb",
      "provenance": [],
      "collapsed_sections": [],
      "authorship_tag": "ABX9TyMTRJiUi8gEBRjpZ3TlOeiV",
      "include_colab_link": true
    },
    "kernelspec": {
      "name": "python3",
      "display_name": "Python 3"
    }
  },
  "cells": [
    {
      "cell_type": "markdown",
      "metadata": {
        "id": "view-in-github",
        "colab_type": "text"
      },
      "source": [
        "<a href=\"https://colab.research.google.com/github/shanaka-desoysa/short-notes/blob/main/docs/OSRM/Open_Source_Routing_Machine.ipynb\" target=\"_blank\"><img src=\"https://colab.research.google.com/assets/colab-badge.svg\" alt=\"Open In Colab\"/></a>"
      ]
    },
    {
      "cell_type": "markdown",
      "metadata": {
        "id": "jZd_Ynj0Cn_O"
      },
      "source": [
        "# Open Source Routing Machine\n",
        "The Open Source Routing Machine (OSRM) is an open-source router designed for use with data from the OpenStreetMap project.\n",
        "\n",
        "[Project OSRM](http://project-osrm.org/)"
      ]
    },
    {
      "cell_type": "code",
      "metadata": {
        "id": "nzk-CQ4eFWj3"
      },
      "source": [
        "!pip install polyline geocoder -q"
      ],
      "execution_count": 1,
      "outputs": []
    },
    {
      "cell_type": "code",
      "metadata": {
        "id": "iMjOTdvLCkSa"
      },
      "source": [
        "import logging\n",
        "import requests\n",
        "import json\n",
        "import polyline\n",
        "import folium\n",
        "from folium.plugins import MeasureControl\n",
        "import geocoder\n",
        "\n",
        "from functools import lru_cache\n",
        "\n",
        "logger = logging.getLogger(__name__)\n",
        "DEBUG = True\n",
        "\n",
        "@lru_cache(maxsize=None)\n",
        "def geocode(location):\n",
        "    return _geocode(location)\n",
        "\n",
        "def _geocode(location):\n",
        "    import geocoder\n",
        "    g = geocoder.osm(location)\n",
        "    return g.latlng\n",
        "\n",
        "@lru_cache(maxsize=None)\n",
        "def get_route(olat, olng, dlat, dlng):\n",
        "    response = _get_route(olat, olng, dlat, dlng)\n",
        "    return response\n",
        "\n",
        "def _get_route(olat, olng, dlat, dlng):\n",
        "    url = f'http://router.project-osrm.org/route/v1/driving/{olng},{olat};{dlng},{dlat}?alternatives=false&steps=false'\n",
        "    # logger.debug(url)\n",
        "    response = None\n",
        "\n",
        "    try:\n",
        "        logger.debug(f'====== OSRM: {url}')\n",
        "        response = requests.get(url, verify=False)\n",
        "    except Exception as ex:\n",
        "        raise\n",
        "    \n",
        "    # logger.debug(response.text)\n",
        "    if response and response.text:\n",
        "        response_dict = json.loads(response.text)\n",
        "        #possible = pd.DataFrame([{'Distance': (route['distance'] / 1000) *  0.621371 , route['weight_name']: route['weight']} for route in response_dict['routes']])\n",
        "        return response_dict\n",
        "    else:\n",
        "        return None\n",
        "\n",
        "def get_routing_map(origin, destination, zoom=5):\n",
        "    orig_latlng = geocode(origin)\n",
        "    dest_latlng = geocode(destination)\n",
        "\n",
        "    resp = get_route(orig_latlng[0], orig_latlng[1], dest_latlng[0], dest_latlng[1])\n",
        "\n",
        "    decoded = polyline.decode(resp[\"routes\"][0]['geometry'])\n",
        "    distance = resp[\"routes\"][0]['distance'] * 0.000621371\n",
        "    duration = resp[\"routes\"][0]['duration'] / 60\n",
        "\n",
        "    map2 = folium.Map(location=(orig_latlng[0], orig_latlng[1]), zoom_start=zoom,\n",
        "                                    control_scale=True)\n",
        "    # map2.add_child(MeasureControl(\n",
        "    #     primary_length_unit='miles',\n",
        "    #     secondary_length_unit='meters',\n",
        "    #     primary_area_unit='acres',\n",
        "    #     secondary_area_unit='sqmeters')\n",
        "    # )\n",
        "\n",
        "    folium.PolyLine(locations=decoded, color=\"blue\").add_to(map2)\n",
        "\n",
        "    print(f\"{duration} minutes\")\n",
        "    print(f\"{distance} miles\")\n",
        "\n",
        "    return map2"
      ],
      "execution_count": 2,
      "outputs": []
    },
    {
      "cell_type": "code",
      "metadata": {
        "colab": {
          "base_uri": "https://localhost:8080/",
          "height": 1000
        },
        "id": "stHYAn-3Irqh",
        "outputId": "f42204e5-5471-49a3-e732-e17a51cfceec"
      },
      "source": [
        "map = get_routing_map('Plymouth, MN', 'San Diego, CA', zoom=5)\n",
        "map"
      ],
      "execution_count": 3,
      "outputs": [
        {
          "output_type": "stream",
          "text": [
            "2086.615 minutes\n",
            "1935.3935121279 miles\n"
          ],
          "name": "stdout"
        },
        {
          "output_type": "execute_result",
          "data": {
            "text/html": [
              "<div style=\"width:100%;\"><div style=\"position:relative;width:100%;height:0;padding-bottom:60%;\"><span style=\"color:#565656\">Make this Notebook Trusted to load map: File -> Trust Notebook</span><iframe src=\"about:blank\" style=\"position:absolute;width:100%;height:100%;left:0;top:0;border:none !important;\" data-html=%3C%21DOCTYPE%20html%3E%0A%3Chead%3E%20%20%20%20%0A%20%20%20%20%3Cmeta%20http-equiv%3D%22content-type%22%20content%3D%22text/html%3B%20charset%3DUTF-8%22%20/%3E%0A%20%20%20%20%3Cscript%3EL_PREFER_CANVAS%3Dfalse%3B%20L_NO_TOUCH%3Dfalse%3B%20L_DISABLE_3D%3Dfalse%3B%3C/script%3E%0A%20%20%20%20%3Cscript%20src%3D%22https%3A//cdn.jsdelivr.net/npm/leaflet%401.4.0/dist/leaflet.js%22%3E%3C/script%3E%0A%20%20%20%20%3Cscript%20src%3D%22https%3A//code.jquery.com/jquery-1.12.4.min.js%22%3E%3C/script%3E%0A%20%20%20%20%3Cscript%20src%3D%22https%3A//maxcdn.bootstrapcdn.com/bootstrap/3.2.0/js/bootstrap.min.js%22%3E%3C/script%3E%0A%20%20%20%20%3Cscript%20src%3D%22https%3A//cdnjs.cloudflare.com/ajax/libs/Leaflet.awesome-markers/2.0.2/leaflet.awesome-markers.js%22%3E%3C/script%3E%0A%20%20%20%20%3Clink%20rel%3D%22stylesheet%22%20href%3D%22https%3A//cdn.jsdelivr.net/npm/leaflet%401.4.0/dist/leaflet.css%22/%3E%0A%20%20%20%20%3Clink%20rel%3D%22stylesheet%22%20href%3D%22https%3A//maxcdn.bootstrapcdn.com/bootstrap/3.2.0/css/bootstrap.min.css%22/%3E%0A%20%20%20%20%3Clink%20rel%3D%22stylesheet%22%20href%3D%22https%3A//maxcdn.bootstrapcdn.com/bootstrap/3.2.0/css/bootstrap-theme.min.css%22/%3E%0A%20%20%20%20%3Clink%20rel%3D%22stylesheet%22%20href%3D%22https%3A//maxcdn.bootstrapcdn.com/font-awesome/4.6.3/css/font-awesome.min.css%22/%3E%0A%20%20%20%20%3Clink%20rel%3D%22stylesheet%22%20href%3D%22https%3A//cdnjs.cloudflare.com/ajax/libs/Leaflet.awesome-markers/2.0.2/leaflet.awesome-markers.css%22/%3E%0A%20%20%20%20%3Clink%20rel%3D%22stylesheet%22%20href%3D%22https%3A//rawcdn.githack.com/python-visualization/folium/master/folium/templates/leaflet.awesome.rotate.css%22/%3E%0A%20%20%20%20%3Cstyle%3Ehtml%2C%20body%20%7Bwidth%3A%20100%25%3Bheight%3A%20100%25%3Bmargin%3A%200%3Bpadding%3A%200%3B%7D%3C/style%3E%0A%20%20%20%20%3Cstyle%3E%23map%20%7Bposition%3Aabsolute%3Btop%3A0%3Bbottom%3A0%3Bright%3A0%3Bleft%3A0%3B%7D%3C/style%3E%0A%20%20%20%20%0A%20%20%20%20%3Cmeta%20name%3D%22viewport%22%20content%3D%22width%3Ddevice-width%2C%0A%20%20%20%20%20%20%20%20initial-scale%3D1.0%2C%20maximum-scale%3D1.0%2C%20user-scalable%3Dno%22%20/%3E%0A%20%20%20%20%3Cstyle%3E%23map_ea519ecc34f546a99a47c2676fbcf605%20%7B%0A%20%20%20%20%20%20%20%20position%3A%20relative%3B%0A%20%20%20%20%20%20%20%20width%3A%20100.0%25%3B%0A%20%20%20%20%20%20%20%20height%3A%20100.0%25%3B%0A%20%20%20%20%20%20%20%20left%3A%200.0%25%3B%0A%20%20%20%20%20%20%20%20top%3A%200.0%25%3B%0A%20%20%20%20%20%20%20%20%7D%0A%20%20%20%20%3C/style%3E%0A%3C/head%3E%0A%3Cbody%3E%20%20%20%20%0A%20%20%20%20%0A%20%20%20%20%3Cdiv%20class%3D%22folium-map%22%20id%3D%22map_ea519ecc34f546a99a47c2676fbcf605%22%20%3E%3C/div%3E%0A%3C/body%3E%0A%3Cscript%3E%20%20%20%20%0A%20%20%20%20%0A%20%20%20%20%0A%20%20%20%20%20%20%20%20var%20bounds%20%3D%20null%3B%0A%20%20%20%20%0A%0A%20%20%20%20var%20map_ea519ecc34f546a99a47c2676fbcf605%20%3D%20L.map%28%0A%20%20%20%20%20%20%20%20%27map_ea519ecc34f546a99a47c2676fbcf605%27%2C%20%7B%0A%20%20%20%20%20%20%20%20center%3A%20%5B45.0065149%2C%20-93.46651%5D%2C%0A%20%20%20%20%20%20%20%20zoom%3A%205%2C%0A%20%20%20%20%20%20%20%20maxBounds%3A%20bounds%2C%0A%20%20%20%20%20%20%20%20layers%3A%20%5B%5D%2C%0A%20%20%20%20%20%20%20%20worldCopyJump%3A%20false%2C%0A%20%20%20%20%20%20%20%20crs%3A%20L.CRS.EPSG3857%2C%0A%20%20%20%20%20%20%20%20zoomControl%3A%20true%2C%0A%20%20%20%20%20%20%20%20%7D%29%3B%0AL.control.scale%28%29.addTo%28map_ea519ecc34f546a99a47c2676fbcf605%29%3B%0A%0A%20%20%20%20%0A%20%20%20%20var%20tile_layer_5b236bda64e24ca7a9c3c9cfe12cc5cd%20%3D%20L.tileLayer%28%0A%20%20%20%20%20%20%20%20%27https%3A//%7Bs%7D.tile.openstreetmap.org/%7Bz%7D/%7Bx%7D/%7By%7D.png%27%2C%0A%20%20%20%20%20%20%20%20%7B%0A%20%20%20%20%20%20%20%20%22attribution%22%3A%20null%2C%0A%20%20%20%20%20%20%20%20%22detectRetina%22%3A%20false%2C%0A%20%20%20%20%20%20%20%20%22maxNativeZoom%22%3A%2018%2C%0A%20%20%20%20%20%20%20%20%22maxZoom%22%3A%2018%2C%0A%20%20%20%20%20%20%20%20%22minZoom%22%3A%200%2C%0A%20%20%20%20%20%20%20%20%22noWrap%22%3A%20false%2C%0A%20%20%20%20%20%20%20%20%22opacity%22%3A%201%2C%0A%20%20%20%20%20%20%20%20%22subdomains%22%3A%20%22abc%22%2C%0A%20%20%20%20%20%20%20%20%22tms%22%3A%20false%0A%7D%29.addTo%28map_ea519ecc34f546a99a47c2676fbcf605%29%3B%0A%20%20%20%20%0A%20%20%20%20%20%20%20%20%20%20%20%20%20%20%20%20var%20poly_line_145143ed0b374ead8ba8c0ce5fb490ad%20%3D%20L.polyline%28%0A%20%20%20%20%20%20%20%20%20%20%20%20%20%20%20%20%20%20%20%20%5B%5B45.00652%2C%20-93.46632%5D%2C%20%5B44.79645%2C%20-93.40029%5D%2C%20%5B44.58226%2C%20-93.83465%5D%2C%20%5B44.16928%2C%20-94.00588%5D%2C%20%5B43.97908%2C%20-94.43462%5D%2C%20%5B43.90918%2C%20-95.05335%5D%2C%20%5B43.58536%2C%20-95.64682%5D%2C%20%5B42.44587%2C%20-96.33774%5D%2C%20%5B42.22097%2C%20-97.01779%5D%2C%20%5B41.46873%2C%20-97.05958%5D%2C%20%5B41.30954%2C%20-97.67756%5D%2C%20%5B40.82729%2C%20-98.3406%5D%2C%20%5B40.69073%2C%20-99.5603%5D%2C%20%5B41.09499%2C%20-100.66414%5D%2C%20%5B41.11432%2C%20-101.73611%5D%2C%20%5B40.75678%2C%20-102.97197%5D%2C%20%5B40.27499%2C%20-103.57399%5D%2C%20%5B40.10388%2C%20-104.59892%5D%2C%20%5B39.69559%2C%20-105.20944%5D%2C%20%5B39.76607%2C%20-105.62843%5D%2C%20%5B39.50173%2C%20-106.16523%5D%2C%20%5B39.71074%2C%20-106.71339%5D%2C%20%5B39.4743%2C%20-108.01975%5D%2C%20%5B39.11798%2C%20-108.32956%5D%2C%20%5B39.23293%2C%20-108.91004%5D%2C%20%5B38.93414%2C%20-109.42023%5D%2C%20%5B38.99168%2C%20-110.18403%5D%2C%20%5B38.75554%2C%20-111.38885%5D%2C%20%5B38.93374%2C%20-111.8577%5D%2C%20%5B38.57984%2C%20-112.28138%5D%2C%20%5B38.57668%2C%20-112.60503%5D%2C%20%5B38.14399%2C%20-112.61587%5D%2C%20%5B36.99046%2C%20-113.62711%5D%2C%20%5B36.74391%2C%20-114.42265%5D%2C%20%5B36.2302%2C%20-115.11438%5D%2C%20%5B35.46911%2C%20-115.45353%5D%2C%20%5B34.88342%2C%20-117.06185%5D%2C%20%5B34.72364%2C%20-117.19339%5D%2C%20%5B34.33389%2C%20-117.48247%5D%2C%20%5B33.68357%2C%20-117.17117%5D%2C%20%5B32.71678%2C%20-117.16291%5D%5D%2C%0A%20%20%20%20%20%20%20%20%20%20%20%20%20%20%20%20%20%20%20%20%7B%0A%20%20%22bubblingMouseEvents%22%3A%20true%2C%0A%20%20%22color%22%3A%20%22blue%22%2C%0A%20%20%22dashArray%22%3A%20null%2C%0A%20%20%22dashOffset%22%3A%20null%2C%0A%20%20%22fill%22%3A%20false%2C%0A%20%20%22fillColor%22%3A%20%22blue%22%2C%0A%20%20%22fillOpacity%22%3A%200.2%2C%0A%20%20%22fillRule%22%3A%20%22evenodd%22%2C%0A%20%20%22lineCap%22%3A%20%22round%22%2C%0A%20%20%22lineJoin%22%3A%20%22round%22%2C%0A%20%20%22noClip%22%3A%20false%2C%0A%20%20%22opacity%22%3A%201.0%2C%0A%20%20%22smoothFactor%22%3A%201.0%2C%0A%20%20%22stroke%22%3A%20true%2C%0A%20%20%22weight%22%3A%203%0A%7D%0A%20%20%20%20%20%20%20%20%20%20%20%20%20%20%20%20%20%20%20%20%29%0A%20%20%20%20%20%20%20%20%20%20%20%20%20%20%20%20%20%20%20%20.addTo%28map_ea519ecc34f546a99a47c2676fbcf605%29%3B%0A%20%20%20%20%20%20%20%20%20%20%20%20%0A%3C/script%3E onload=\"this.contentDocument.open();this.contentDocument.write(    decodeURIComponent(this.getAttribute('data-html')));this.contentDocument.close();\" allowfullscreen webkitallowfullscreen mozallowfullscreen></iframe></div></div>"
            ],
            "text/plain": [
              "<folium.folium.Map at 0x7f96e2ae5ba8>"
            ]
          },
          "metadata": {
            "tags": []
          },
          "execution_count": 3
        }
      ]
    },
    {
      "cell_type": "code",
      "metadata": {
        "colab": {
          "base_uri": "https://localhost:8080/",
          "height": 1000
        },
        "id": "nqYFyTZkPgyZ",
        "outputId": "189122ae-a00c-4b4f-92d5-b1e000878dc5"
      },
      "source": [
        "map = get_routing_map('Ragama, Sri Lanka', 'Kandy, Sri Lanka', zoom=6)\n",
        "map"
      ],
      "execution_count": 4,
      "outputs": [
        {
          "output_type": "stream",
          "text": [
            "123.43 minutes\n",
            "64.9220226849 miles\n"
          ],
          "name": "stdout"
        },
        {
          "output_type": "execute_result",
          "data": {
            "text/html": [
              "<div style=\"width:100%;\"><div style=\"position:relative;width:100%;height:0;padding-bottom:60%;\"><span style=\"color:#565656\">Make this Notebook Trusted to load map: File -> Trust Notebook</span><iframe src=\"about:blank\" style=\"position:absolute;width:100%;height:100%;left:0;top:0;border:none !important;\" data-html=%3C%21DOCTYPE%20html%3E%0A%3Chead%3E%20%20%20%20%0A%20%20%20%20%3Cmeta%20http-equiv%3D%22content-type%22%20content%3D%22text/html%3B%20charset%3DUTF-8%22%20/%3E%0A%20%20%20%20%3Cscript%3EL_PREFER_CANVAS%3Dfalse%3B%20L_NO_TOUCH%3Dfalse%3B%20L_DISABLE_3D%3Dfalse%3B%3C/script%3E%0A%20%20%20%20%3Cscript%20src%3D%22https%3A//cdn.jsdelivr.net/npm/leaflet%401.4.0/dist/leaflet.js%22%3E%3C/script%3E%0A%20%20%20%20%3Cscript%20src%3D%22https%3A//code.jquery.com/jquery-1.12.4.min.js%22%3E%3C/script%3E%0A%20%20%20%20%3Cscript%20src%3D%22https%3A//maxcdn.bootstrapcdn.com/bootstrap/3.2.0/js/bootstrap.min.js%22%3E%3C/script%3E%0A%20%20%20%20%3Cscript%20src%3D%22https%3A//cdnjs.cloudflare.com/ajax/libs/Leaflet.awesome-markers/2.0.2/leaflet.awesome-markers.js%22%3E%3C/script%3E%0A%20%20%20%20%3Clink%20rel%3D%22stylesheet%22%20href%3D%22https%3A//cdn.jsdelivr.net/npm/leaflet%401.4.0/dist/leaflet.css%22/%3E%0A%20%20%20%20%3Clink%20rel%3D%22stylesheet%22%20href%3D%22https%3A//maxcdn.bootstrapcdn.com/bootstrap/3.2.0/css/bootstrap.min.css%22/%3E%0A%20%20%20%20%3Clink%20rel%3D%22stylesheet%22%20href%3D%22https%3A//maxcdn.bootstrapcdn.com/bootstrap/3.2.0/css/bootstrap-theme.min.css%22/%3E%0A%20%20%20%20%3Clink%20rel%3D%22stylesheet%22%20href%3D%22https%3A//maxcdn.bootstrapcdn.com/font-awesome/4.6.3/css/font-awesome.min.css%22/%3E%0A%20%20%20%20%3Clink%20rel%3D%22stylesheet%22%20href%3D%22https%3A//cdnjs.cloudflare.com/ajax/libs/Leaflet.awesome-markers/2.0.2/leaflet.awesome-markers.css%22/%3E%0A%20%20%20%20%3Clink%20rel%3D%22stylesheet%22%20href%3D%22https%3A//rawcdn.githack.com/python-visualization/folium/master/folium/templates/leaflet.awesome.rotate.css%22/%3E%0A%20%20%20%20%3Cstyle%3Ehtml%2C%20body%20%7Bwidth%3A%20100%25%3Bheight%3A%20100%25%3Bmargin%3A%200%3Bpadding%3A%200%3B%7D%3C/style%3E%0A%20%20%20%20%3Cstyle%3E%23map%20%7Bposition%3Aabsolute%3Btop%3A0%3Bbottom%3A0%3Bright%3A0%3Bleft%3A0%3B%7D%3C/style%3E%0A%20%20%20%20%0A%20%20%20%20%3Cmeta%20name%3D%22viewport%22%20content%3D%22width%3Ddevice-width%2C%0A%20%20%20%20%20%20%20%20initial-scale%3D1.0%2C%20maximum-scale%3D1.0%2C%20user-scalable%3Dno%22%20/%3E%0A%20%20%20%20%3Cstyle%3E%23map_4acef87d006b484bb2a24dcd3770e8ac%20%7B%0A%20%20%20%20%20%20%20%20position%3A%20relative%3B%0A%20%20%20%20%20%20%20%20width%3A%20100.0%25%3B%0A%20%20%20%20%20%20%20%20height%3A%20100.0%25%3B%0A%20%20%20%20%20%20%20%20left%3A%200.0%25%3B%0A%20%20%20%20%20%20%20%20top%3A%200.0%25%3B%0A%20%20%20%20%20%20%20%20%7D%0A%20%20%20%20%3C/style%3E%0A%3C/head%3E%0A%3Cbody%3E%20%20%20%20%0A%20%20%20%20%0A%20%20%20%20%3Cdiv%20class%3D%22folium-map%22%20id%3D%22map_4acef87d006b484bb2a24dcd3770e8ac%22%20%3E%3C/div%3E%0A%3C/body%3E%0A%3Cscript%3E%20%20%20%20%0A%20%20%20%20%0A%20%20%20%20%0A%20%20%20%20%20%20%20%20var%20bounds%20%3D%20null%3B%0A%20%20%20%20%0A%0A%20%20%20%20var%20map_4acef87d006b484bb2a24dcd3770e8ac%20%3D%20L.map%28%0A%20%20%20%20%20%20%20%20%27map_4acef87d006b484bb2a24dcd3770e8ac%27%2C%20%7B%0A%20%20%20%20%20%20%20%20center%3A%20%5B7.0284392%2C%2079.9219776%5D%2C%0A%20%20%20%20%20%20%20%20zoom%3A%206%2C%0A%20%20%20%20%20%20%20%20maxBounds%3A%20bounds%2C%0A%20%20%20%20%20%20%20%20layers%3A%20%5B%5D%2C%0A%20%20%20%20%20%20%20%20worldCopyJump%3A%20false%2C%0A%20%20%20%20%20%20%20%20crs%3A%20L.CRS.EPSG3857%2C%0A%20%20%20%20%20%20%20%20zoomControl%3A%20true%2C%0A%20%20%20%20%20%20%20%20%7D%29%3B%0AL.control.scale%28%29.addTo%28map_4acef87d006b484bb2a24dcd3770e8ac%29%3B%0A%0A%20%20%20%20%0A%20%20%20%20var%20tile_layer_a96594aec2524222a4a6b22f23a16d67%20%3D%20L.tileLayer%28%0A%20%20%20%20%20%20%20%20%27https%3A//%7Bs%7D.tile.openstreetmap.org/%7Bz%7D/%7Bx%7D/%7By%7D.png%27%2C%0A%20%20%20%20%20%20%20%20%7B%0A%20%20%20%20%20%20%20%20%22attribution%22%3A%20null%2C%0A%20%20%20%20%20%20%20%20%22detectRetina%22%3A%20false%2C%0A%20%20%20%20%20%20%20%20%22maxNativeZoom%22%3A%2018%2C%0A%20%20%20%20%20%20%20%20%22maxZoom%22%3A%2018%2C%0A%20%20%20%20%20%20%20%20%22minZoom%22%3A%200%2C%0A%20%20%20%20%20%20%20%20%22noWrap%22%3A%20false%2C%0A%20%20%20%20%20%20%20%20%22opacity%22%3A%201%2C%0A%20%20%20%20%20%20%20%20%22subdomains%22%3A%20%22abc%22%2C%0A%20%20%20%20%20%20%20%20%22tms%22%3A%20false%0A%7D%29.addTo%28map_4acef87d006b484bb2a24dcd3770e8ac%29%3B%0A%20%20%20%20%0A%20%20%20%20%20%20%20%20%20%20%20%20%20%20%20%20var%20poly_line_050af216cd17438e96f99bc9329a8913%20%3D%20L.polyline%28%0A%20%20%20%20%20%20%20%20%20%20%20%20%20%20%20%20%20%20%20%20%5B%5B7.02842%2C%2079.92191%5D%2C%20%5B7.02045%2C%2079.93612%5D%2C%20%5B7.00315%2C%2079.94394%5D%2C%20%5B7.00866%2C%2079.9647%5D%2C%20%5B7.05521%2C%2080.00816%5D%2C%20%5B7.07192%2C%2080.01461%5D%2C%20%5B7.0868%2C%2080.03442%5D%2C%20%5B7.10827%2C%2080.04565%5D%2C%20%5B7.13271%2C%2080.07828%5D%2C%20%5B7.13721%2C%2080.09232%5D%2C%20%5B7.15222%2C%2080.10324%5D%2C%20%5B7.15798%2C%2080.11829%5D%2C%20%5B7.18671%2C%2080.1335%5D%2C%20%5B7.18301%2C%2080.1487%5D%2C%20%5B7.19861%2C%2080.15501%5D%2C%20%5B7.20145%2C%2080.17126%5D%2C%20%5B7.24135%2C%2080.20991%5D%2C%20%5B7.23067%2C%2080.21786%5D%2C%20%5B7.23931%2C%2080.23301%5D%2C%20%5B7.23107%2C%2080.24498%5D%2C%20%5B7.23762%2C%2080.27063%5D%2C%20%5B7.23496%2C%2080.31437%5D%2C%20%5B7.23757%2C%2080.32213%5D%2C%20%5B7.2516%2C%2080.3236%5D%2C%20%5B7.25488%2C%2080.35356%5D%2C%20%5B7.25073%2C%2080.37065%5D%2C%20%5B7.25686%2C%2080.40463%5D%2C%20%5B7.25449%2C%2080.41505%5D%2C%20%5B7.2473%2C%2080.41852%5D%2C%20%5B7.25439%2C%2080.44534%5D%2C%20%5B7.24705%2C%2080.4651%5D%2C%20%5B7.25623%2C%2080.48984%5D%2C%20%5B7.25144%2C%2080.5091%5D%2C%20%5B7.26613%2C%2080.55299%5D%2C%20%5B7.26885%2C%2080.57988%5D%2C%20%5B7.26429%2C%2080.59446%5D%2C%20%5B7.293%2C%2080.63506%5D%5D%2C%0A%20%20%20%20%20%20%20%20%20%20%20%20%20%20%20%20%20%20%20%20%7B%0A%20%20%22bubblingMouseEvents%22%3A%20true%2C%0A%20%20%22color%22%3A%20%22blue%22%2C%0A%20%20%22dashArray%22%3A%20null%2C%0A%20%20%22dashOffset%22%3A%20null%2C%0A%20%20%22fill%22%3A%20false%2C%0A%20%20%22fillColor%22%3A%20%22blue%22%2C%0A%20%20%22fillOpacity%22%3A%200.2%2C%0A%20%20%22fillRule%22%3A%20%22evenodd%22%2C%0A%20%20%22lineCap%22%3A%20%22round%22%2C%0A%20%20%22lineJoin%22%3A%20%22round%22%2C%0A%20%20%22noClip%22%3A%20false%2C%0A%20%20%22opacity%22%3A%201.0%2C%0A%20%20%22smoothFactor%22%3A%201.0%2C%0A%20%20%22stroke%22%3A%20true%2C%0A%20%20%22weight%22%3A%203%0A%7D%0A%20%20%20%20%20%20%20%20%20%20%20%20%20%20%20%20%20%20%20%20%29%0A%20%20%20%20%20%20%20%20%20%20%20%20%20%20%20%20%20%20%20%20.addTo%28map_4acef87d006b484bb2a24dcd3770e8ac%29%3B%0A%20%20%20%20%20%20%20%20%20%20%20%20%0A%3C/script%3E onload=\"this.contentDocument.open();this.contentDocument.write(    decodeURIComponent(this.getAttribute('data-html')));this.contentDocument.close();\" allowfullscreen webkitallowfullscreen mozallowfullscreen></iframe></div></div>"
            ],
            "text/plain": [
              "<folium.folium.Map at 0x7f96e22f5828>"
            ]
          },
          "metadata": {
            "tags": []
          },
          "execution_count": 4
        }
      ]
    },
    {
      "cell_type": "code",
      "metadata": {
        "id": "-aF27Rz6P-b3",
        "colab": {
          "base_uri": "https://localhost:8080/"
        },
        "outputId": "82312063-56b5-4cab-a1bd-74e188c0b66d"
      },
      "source": [
        "import geocoder\n",
        "g = geocoder.arcgis('Redlands, CA')\n",
        "g.json"
      ],
      "execution_count": 5,
      "outputs": [
        {
          "output_type": "execute_result",
          "data": {
            "text/plain": [
              "{'address': 'Redlands, California',\n",
              " 'bbox': {'northeast': [34.12838000000007, -117.10958999999995],\n",
              "  'southwest': [33.98238000000007, -117.25558999999994]},\n",
              " 'confidence': 2,\n",
              " 'lat': 34.05538000000007,\n",
              " 'lng': -117.18258999999995,\n",
              " 'ok': True,\n",
              " 'quality': 'Locality',\n",
              " 'raw': {'extent': {'xmax': -117.10958999999995,\n",
              "   'xmin': -117.25558999999994,\n",
              "   'ymax': 34.12838000000007,\n",
              "   'ymin': 33.98238000000007},\n",
              "  'feature': {'attributes': {'Addr_Type': 'Locality', 'Score': 100},\n",
              "   'geometry': {'x': -117.18258999999995, 'y': 34.05538000000007}},\n",
              "  'name': 'Redlands, California'},\n",
              " 'score': 100,\n",
              " 'status': 'OK'}"
            ]
          },
          "metadata": {
            "tags": []
          },
          "execution_count": 5
        }
      ]
    }
  ]
}